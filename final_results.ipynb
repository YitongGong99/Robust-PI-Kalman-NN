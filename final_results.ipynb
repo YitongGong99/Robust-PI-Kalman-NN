{
 "cells": [
  {
   "cell_type": "code",
   "execution_count": 14,
   "id": "6ccc57e2",
   "metadata": {},
   "outputs": [],
   "source": [
    "from evaluation import Evaluator\n",
    "import datetime\n",
    "import os\n",
    "import json\n",
    "import matplotlib.pyplot as plt"
   ]
  },
  {
   "cell_type": "code",
   "execution_count": 3,
   "id": "d3b987a2",
   "metadata": {},
   "outputs": [],
   "source": [
    "def read_path(path):\n",
    "    nn_type, period, lag, vi, pinn, _ = path.split(\"_\")\n",
    "    nn_on = False if nn_type == \"Baseline\" else True\n",
    "    return {\n",
    "        \"nn_on\": nn_on, \n",
    "        \"nn_type\": \"FCNN\" if not nn_on else nn_type,\n",
    "        \"year\": datetime.datetime.strptime(period.split(\"-\")[0], \"%Y%m%d\").date().year,\n",
    "        \"lag\": int(lag.split(\"-\")[1]),\n",
    "        \"vi\": vi.split(\"-\")[-1] == \"T\",\n",
    "        \"pinn\": pinn.split(\"-\")[-1] == \"T\"\n",
    "    }"
   ]
  },
  {
   "cell_type": "code",
   "execution_count": 3,
   "id": "2117277c",
   "metadata": {},
   "outputs": [
    {
     "name": "stdout",
     "output_type": "stream",
     "text": [
      "{'nn_on': False, 'nn_type': 'FCNN', 'year': 2016, 'lag': 0, 'vi': False, 'pinn': False}\n"
     ]
    },
    {
     "name": "stderr",
     "output_type": "stream",
     "text": [
      "Evaluating EKF:  16%|█▋        | 400/2442 [00:00<00:02, 792.11it/s]"
     ]
    },
    {
     "name": "stderr",
     "output_type": "stream",
     "text": [
      "Evaluating EKF: 100%|██████████| 2442/2442 [00:03<00:00, 736.39it/s]\n"
     ]
    },
    {
     "name": "stdout",
     "output_type": "stream",
     "text": [
      "{'nn_on': False, 'nn_type': 'FCNN', 'year': 2016, 'lag': 0, 'vi': False, 'pinn': True}\n"
     ]
    },
    {
     "name": "stderr",
     "output_type": "stream",
     "text": [
      "Evaluating EKF: 100%|██████████| 2442/2442 [00:03<00:00, 786.62it/s]\n"
     ]
    },
    {
     "name": "stdout",
     "output_type": "stream",
     "text": [
      "{'nn_on': False, 'nn_type': 'FCNN', 'year': 2016, 'lag': 0, 'vi': True, 'pinn': False}\n"
     ]
    },
    {
     "name": "stderr",
     "output_type": "stream",
     "text": [
      "Evaluating EKF: 100%|██████████| 2442/2442 [00:03<00:00, 771.06it/s]\n"
     ]
    },
    {
     "name": "stdout",
     "output_type": "stream",
     "text": [
      "{'nn_on': False, 'nn_type': 'FCNN', 'year': 2016, 'lag': 0, 'vi': True, 'pinn': True}\n"
     ]
    },
    {
     "name": "stderr",
     "output_type": "stream",
     "text": [
      "Evaluating EKF: 100%|██████████| 2442/2442 [00:03<00:00, 785.09it/s]\n"
     ]
    },
    {
     "name": "stdout",
     "output_type": "stream",
     "text": [
      "{'nn_on': False, 'nn_type': 'FCNN', 'year': 2016, 'lag': 3, 'vi': False, 'pinn': False}\n"
     ]
    },
    {
     "name": "stderr",
     "output_type": "stream",
     "text": [
      "Evaluating EKF: 100%|██████████| 2442/2442 [00:05<00:00, 444.65it/s]\n"
     ]
    },
    {
     "name": "stdout",
     "output_type": "stream",
     "text": [
      "{'nn_on': False, 'nn_type': 'FCNN', 'year': 2016, 'lag': 3, 'vi': False, 'pinn': True}\n"
     ]
    },
    {
     "name": "stderr",
     "output_type": "stream",
     "text": [
      "Evaluating EKF: 100%|██████████| 2442/2442 [00:05<00:00, 444.97it/s]\n"
     ]
    },
    {
     "name": "stdout",
     "output_type": "stream",
     "text": [
      "{'nn_on': False, 'nn_type': 'FCNN', 'year': 2016, 'lag': 3, 'vi': True, 'pinn': False}\n"
     ]
    },
    {
     "name": "stderr",
     "output_type": "stream",
     "text": [
      "Evaluating EKF: 100%|██████████| 2442/2442 [00:05<00:00, 463.84it/s]\n"
     ]
    },
    {
     "name": "stdout",
     "output_type": "stream",
     "text": [
      "{'nn_on': False, 'nn_type': 'FCNN', 'year': 2016, 'lag': 3, 'vi': True, 'pinn': True}\n"
     ]
    },
    {
     "name": "stderr",
     "output_type": "stream",
     "text": [
      "Evaluating EKF: 100%|██████████| 2442/2442 [00:05<00:00, 455.33it/s]\n"
     ]
    },
    {
     "name": "stdout",
     "output_type": "stream",
     "text": [
      "{'nn_on': False, 'nn_type': 'FCNN', 'year': 2017, 'lag': 0, 'vi': False, 'pinn': False}\n"
     ]
    },
    {
     "name": "stderr",
     "output_type": "stream",
     "text": [
      "Evaluating EKF: 100%|██████████| 1303/1303 [00:01<00:00, 820.69it/s]\n"
     ]
    },
    {
     "name": "stdout",
     "output_type": "stream",
     "text": [
      "{'nn_on': False, 'nn_type': 'FCNN', 'year': 2017, 'lag': 0, 'vi': False, 'pinn': True}\n"
     ]
    },
    {
     "name": "stderr",
     "output_type": "stream",
     "text": [
      "Evaluating EKF: 100%|██████████| 1303/1303 [00:01<00:00, 793.17it/s]\n"
     ]
    },
    {
     "name": "stdout",
     "output_type": "stream",
     "text": [
      "{'nn_on': False, 'nn_type': 'FCNN', 'year': 2017, 'lag': 0, 'vi': True, 'pinn': False}\n"
     ]
    },
    {
     "name": "stderr",
     "output_type": "stream",
     "text": [
      "Evaluating EKF: 100%|██████████| 1303/1303 [00:01<00:00, 790.94it/s]\n"
     ]
    },
    {
     "name": "stdout",
     "output_type": "stream",
     "text": [
      "{'nn_on': False, 'nn_type': 'FCNN', 'year': 2017, 'lag': 0, 'vi': True, 'pinn': True}\n"
     ]
    },
    {
     "name": "stderr",
     "output_type": "stream",
     "text": [
      "Evaluating EKF: 100%|██████████| 1303/1303 [00:01<00:00, 797.28it/s]\n"
     ]
    },
    {
     "name": "stdout",
     "output_type": "stream",
     "text": [
      "{'nn_on': False, 'nn_type': 'FCNN', 'year': 2017, 'lag': 3, 'vi': False, 'pinn': False}\n"
     ]
    },
    {
     "name": "stderr",
     "output_type": "stream",
     "text": [
      "Evaluating EKF: 100%|██████████| 1303/1303 [00:03<00:00, 427.73it/s]\n"
     ]
    },
    {
     "name": "stdout",
     "output_type": "stream",
     "text": [
      "{'nn_on': False, 'nn_type': 'FCNN', 'year': 2017, 'lag': 3, 'vi': False, 'pinn': True}\n"
     ]
    },
    {
     "name": "stderr",
     "output_type": "stream",
     "text": [
      "Evaluating EKF: 100%|██████████| 1303/1303 [00:02<00:00, 439.46it/s]\n"
     ]
    },
    {
     "name": "stdout",
     "output_type": "stream",
     "text": [
      "{'nn_on': False, 'nn_type': 'FCNN', 'year': 2017, 'lag': 3, 'vi': True, 'pinn': False}\n"
     ]
    },
    {
     "name": "stderr",
     "output_type": "stream",
     "text": [
      "Evaluating EKF: 100%|██████████| 1303/1303 [00:02<00:00, 451.28it/s]\n"
     ]
    },
    {
     "name": "stdout",
     "output_type": "stream",
     "text": [
      "{'nn_on': False, 'nn_type': 'FCNN', 'year': 2017, 'lag': 3, 'vi': True, 'pinn': True}\n"
     ]
    },
    {
     "name": "stderr",
     "output_type": "stream",
     "text": [
      "Evaluating EKF: 100%|██████████| 1303/1303 [00:03<00:00, 429.55it/s]\n"
     ]
    },
    {
     "name": "stdout",
     "output_type": "stream",
     "text": [
      "{'nn_on': False, 'nn_type': 'FCNN', 'year': 2018, 'lag': 0, 'vi': False, 'pinn': False}\n"
     ]
    },
    {
     "name": "stderr",
     "output_type": "stream",
     "text": [
      "Evaluating EKF: 100%|██████████| 1303/1303 [00:01<00:00, 756.27it/s]\n"
     ]
    },
    {
     "name": "stdout",
     "output_type": "stream",
     "text": [
      "{'nn_on': False, 'nn_type': 'FCNN', 'year': 2018, 'lag': 0, 'vi': False, 'pinn': True}\n"
     ]
    },
    {
     "name": "stderr",
     "output_type": "stream",
     "text": [
      "Evaluating EKF: 100%|██████████| 1303/1303 [00:01<00:00, 746.46it/s]\n"
     ]
    },
    {
     "name": "stdout",
     "output_type": "stream",
     "text": [
      "{'nn_on': False, 'nn_type': 'FCNN', 'year': 2018, 'lag': 0, 'vi': True, 'pinn': False}\n"
     ]
    },
    {
     "name": "stderr",
     "output_type": "stream",
     "text": [
      "Evaluating EKF: 100%|██████████| 1303/1303 [00:01<00:00, 797.97it/s]\n"
     ]
    },
    {
     "name": "stdout",
     "output_type": "stream",
     "text": [
      "{'nn_on': False, 'nn_type': 'FCNN', 'year': 2018, 'lag': 0, 'vi': True, 'pinn': True}\n"
     ]
    },
    {
     "name": "stderr",
     "output_type": "stream",
     "text": [
      "Evaluating EKF: 100%|██████████| 1303/1303 [00:01<00:00, 763.49it/s]\n"
     ]
    },
    {
     "name": "stdout",
     "output_type": "stream",
     "text": [
      "{'nn_on': False, 'nn_type': 'FCNN', 'year': 2018, 'lag': 3, 'vi': False, 'pinn': False}\n"
     ]
    },
    {
     "name": "stderr",
     "output_type": "stream",
     "text": [
      "Evaluating EKF: 100%|██████████| 1303/1303 [00:03<00:00, 424.66it/s]\n"
     ]
    },
    {
     "name": "stdout",
     "output_type": "stream",
     "text": [
      "{'nn_on': False, 'nn_type': 'FCNN', 'year': 2018, 'lag': 3, 'vi': False, 'pinn': True}\n"
     ]
    },
    {
     "name": "stderr",
     "output_type": "stream",
     "text": [
      "Evaluating EKF: 100%|██████████| 1303/1303 [00:02<00:00, 450.88it/s]\n"
     ]
    },
    {
     "name": "stdout",
     "output_type": "stream",
     "text": [
      "{'nn_on': False, 'nn_type': 'FCNN', 'year': 2018, 'lag': 3, 'vi': True, 'pinn': False}\n"
     ]
    },
    {
     "name": "stderr",
     "output_type": "stream",
     "text": [
      "Evaluating EKF: 100%|██████████| 1303/1303 [00:03<00:00, 425.21it/s]\n"
     ]
    },
    {
     "name": "stdout",
     "output_type": "stream",
     "text": [
      "{'nn_on': False, 'nn_type': 'FCNN', 'year': 2018, 'lag': 3, 'vi': True, 'pinn': True}\n"
     ]
    },
    {
     "name": "stderr",
     "output_type": "stream",
     "text": [
      "Evaluating EKF: 100%|██████████| 1303/1303 [00:02<00:00, 448.89it/s]\n"
     ]
    },
    {
     "name": "stdout",
     "output_type": "stream",
     "text": [
      "{'nn_on': False, 'nn_type': 'FCNN', 'year': 2019, 'lag': 0, 'vi': False, 'pinn': False}\n"
     ]
    },
    {
     "name": "stderr",
     "output_type": "stream",
     "text": [
      "Evaluating EKF: 100%|██████████| 1302/1302 [00:01<00:00, 761.41it/s]\n"
     ]
    },
    {
     "name": "stdout",
     "output_type": "stream",
     "text": [
      "{'nn_on': False, 'nn_type': 'FCNN', 'year': 2019, 'lag': 0, 'vi': False, 'pinn': True}\n"
     ]
    },
    {
     "name": "stderr",
     "output_type": "stream",
     "text": [
      "Evaluating EKF: 100%|██████████| 1302/1302 [00:01<00:00, 729.09it/s]\n"
     ]
    },
    {
     "name": "stdout",
     "output_type": "stream",
     "text": [
      "{'nn_on': False, 'nn_type': 'FCNN', 'year': 2019, 'lag': 0, 'vi': True, 'pinn': False}\n"
     ]
    },
    {
     "name": "stderr",
     "output_type": "stream",
     "text": [
      "Evaluating EKF: 100%|██████████| 1302/1302 [00:01<00:00, 789.52it/s]\n"
     ]
    },
    {
     "name": "stdout",
     "output_type": "stream",
     "text": [
      "{'nn_on': False, 'nn_type': 'FCNN', 'year': 2019, 'lag': 0, 'vi': True, 'pinn': True}\n"
     ]
    },
    {
     "name": "stderr",
     "output_type": "stream",
     "text": [
      "Evaluating EKF: 100%|██████████| 1302/1302 [00:01<00:00, 765.65it/s]\n"
     ]
    },
    {
     "name": "stdout",
     "output_type": "stream",
     "text": [
      "{'nn_on': False, 'nn_type': 'FCNN', 'year': 2019, 'lag': 3, 'vi': False, 'pinn': False}\n"
     ]
    },
    {
     "name": "stderr",
     "output_type": "stream",
     "text": [
      "Evaluating EKF: 100%|██████████| 1302/1302 [00:03<00:00, 426.69it/s]\n"
     ]
    },
    {
     "name": "stdout",
     "output_type": "stream",
     "text": [
      "{'nn_on': False, 'nn_type': 'FCNN', 'year': 2019, 'lag': 3, 'vi': False, 'pinn': True}\n"
     ]
    },
    {
     "name": "stderr",
     "output_type": "stream",
     "text": [
      "Evaluating EKF: 100%|██████████| 1302/1302 [00:02<00:00, 472.94it/s]\n"
     ]
    },
    {
     "name": "stdout",
     "output_type": "stream",
     "text": [
      "{'nn_on': False, 'nn_type': 'FCNN', 'year': 2019, 'lag': 3, 'vi': True, 'pinn': False}\n"
     ]
    },
    {
     "name": "stderr",
     "output_type": "stream",
     "text": [
      "Evaluating EKF: 100%|██████████| 1302/1302 [00:02<00:00, 449.03it/s]\n"
     ]
    },
    {
     "name": "stdout",
     "output_type": "stream",
     "text": [
      "{'nn_on': False, 'nn_type': 'FCNN', 'year': 2019, 'lag': 3, 'vi': True, 'pinn': True}\n"
     ]
    },
    {
     "name": "stderr",
     "output_type": "stream",
     "text": [
      "Evaluating EKF: 100%|██████████| 1302/1302 [00:02<00:00, 453.84it/s]\n"
     ]
    },
    {
     "name": "stdout",
     "output_type": "stream",
     "text": [
      "{'nn_on': False, 'nn_type': 'FCNN', 'year': 2020, 'lag': 0, 'vi': False, 'pinn': False}\n"
     ]
    },
    {
     "name": "stderr",
     "output_type": "stream",
     "text": [
      "Evaluating EKF: 100%|██████████| 1303/1303 [00:01<00:00, 830.91it/s]\n"
     ]
    },
    {
     "name": "stdout",
     "output_type": "stream",
     "text": [
      "{'nn_on': False, 'nn_type': 'FCNN', 'year': 2020, 'lag': 0, 'vi': False, 'pinn': True}\n"
     ]
    },
    {
     "name": "stderr",
     "output_type": "stream",
     "text": [
      "Evaluating EKF: 100%|██████████| 1303/1303 [00:01<00:00, 796.71it/s]\n"
     ]
    },
    {
     "name": "stdout",
     "output_type": "stream",
     "text": [
      "{'nn_on': False, 'nn_type': 'FCNN', 'year': 2020, 'lag': 0, 'vi': True, 'pinn': False}\n"
     ]
    },
    {
     "name": "stderr",
     "output_type": "stream",
     "text": [
      "Evaluating EKF: 100%|██████████| 1303/1303 [00:01<00:00, 794.50it/s]\n"
     ]
    },
    {
     "name": "stdout",
     "output_type": "stream",
     "text": [
      "{'nn_on': False, 'nn_type': 'FCNN', 'year': 2020, 'lag': 0, 'vi': True, 'pinn': True}\n"
     ]
    },
    {
     "name": "stderr",
     "output_type": "stream",
     "text": [
      "Evaluating EKF: 100%|██████████| 1303/1303 [00:01<00:00, 796.82it/s]\n"
     ]
    },
    {
     "name": "stdout",
     "output_type": "stream",
     "text": [
      "{'nn_on': False, 'nn_type': 'FCNN', 'year': 2020, 'lag': 3, 'vi': False, 'pinn': False}\n"
     ]
    },
    {
     "name": "stderr",
     "output_type": "stream",
     "text": [
      "Evaluating EKF: 100%|██████████| 1303/1303 [00:02<00:00, 459.63it/s]\n"
     ]
    },
    {
     "name": "stdout",
     "output_type": "stream",
     "text": [
      "{'nn_on': False, 'nn_type': 'FCNN', 'year': 2020, 'lag': 3, 'vi': False, 'pinn': True}\n"
     ]
    },
    {
     "name": "stderr",
     "output_type": "stream",
     "text": [
      "Evaluating EKF: 100%|██████████| 1303/1303 [00:02<00:00, 468.32it/s]\n"
     ]
    },
    {
     "name": "stdout",
     "output_type": "stream",
     "text": [
      "{'nn_on': False, 'nn_type': 'FCNN', 'year': 2020, 'lag': 3, 'vi': True, 'pinn': False}\n"
     ]
    },
    {
     "name": "stderr",
     "output_type": "stream",
     "text": [
      "Evaluating EKF: 100%|██████████| 1303/1303 [00:02<00:00, 458.68it/s]\n"
     ]
    },
    {
     "name": "stdout",
     "output_type": "stream",
     "text": [
      "{'nn_on': False, 'nn_type': 'FCNN', 'year': 2020, 'lag': 3, 'vi': True, 'pinn': True}\n"
     ]
    },
    {
     "name": "stderr",
     "output_type": "stream",
     "text": [
      "Evaluating EKF: 100%|██████████| 1303/1303 [00:02<00:00, 458.25it/s]\n"
     ]
    },
    {
     "name": "stdout",
     "output_type": "stream",
     "text": [
      "{'nn_on': True, 'nn_type': 'FCNN', 'year': 2016, 'lag': 0, 'vi': False, 'pinn': False}\n"
     ]
    },
    {
     "name": "stderr",
     "output_type": "stream",
     "text": [
      "Evaluating EKF: 100%|██████████| 2442/2442 [00:03<00:00, 793.43it/s]\n"
     ]
    },
    {
     "name": "stdout",
     "output_type": "stream",
     "text": [
      "{'nn_on': True, 'nn_type': 'FCNN', 'year': 2016, 'lag': 0, 'vi': False, 'pinn': True}\n"
     ]
    },
    {
     "name": "stderr",
     "output_type": "stream",
     "text": [
      "Evaluating EKF: 100%|██████████| 2442/2442 [00:03<00:00, 780.44it/s]\n"
     ]
    },
    {
     "name": "stdout",
     "output_type": "stream",
     "text": [
      "{'nn_on': True, 'nn_type': 'FCNN', 'year': 2016, 'lag': 0, 'vi': True, 'pinn': False}\n"
     ]
    },
    {
     "name": "stderr",
     "output_type": "stream",
     "text": [
      "Evaluating EKF: 100%|██████████| 2442/2442 [00:03<00:00, 792.00it/s]\n"
     ]
    },
    {
     "name": "stdout",
     "output_type": "stream",
     "text": [
      "{'nn_on': True, 'nn_type': 'FCNN', 'year': 2016, 'lag': 0, 'vi': True, 'pinn': True}\n"
     ]
    },
    {
     "name": "stderr",
     "output_type": "stream",
     "text": [
      "Evaluating EKF: 100%|██████████| 2442/2442 [00:03<00:00, 788.00it/s]\n"
     ]
    },
    {
     "name": "stdout",
     "output_type": "stream",
     "text": [
      "{'nn_on': True, 'nn_type': 'FCNN', 'year': 2016, 'lag': 3, 'vi': False, 'pinn': False}\n"
     ]
    },
    {
     "name": "stderr",
     "output_type": "stream",
     "text": [
      "Evaluating EKF: 100%|██████████| 2442/2442 [00:05<00:00, 459.57it/s]\n"
     ]
    },
    {
     "name": "stdout",
     "output_type": "stream",
     "text": [
      "{'nn_on': True, 'nn_type': 'FCNN', 'year': 2016, 'lag': 3, 'vi': False, 'pinn': True}\n"
     ]
    },
    {
     "name": "stderr",
     "output_type": "stream",
     "text": [
      "Evaluating EKF: 100%|██████████| 2442/2442 [00:05<00:00, 463.92it/s]\n"
     ]
    },
    {
     "name": "stdout",
     "output_type": "stream",
     "text": [
      "{'nn_on': True, 'nn_type': 'FCNN', 'year': 2016, 'lag': 3, 'vi': True, 'pinn': False}\n"
     ]
    },
    {
     "name": "stderr",
     "output_type": "stream",
     "text": [
      "Evaluating EKF: 100%|██████████| 2442/2442 [00:05<00:00, 468.69it/s]\n"
     ]
    },
    {
     "name": "stdout",
     "output_type": "stream",
     "text": [
      "{'nn_on': True, 'nn_type': 'FCNN', 'year': 2016, 'lag': 3, 'vi': True, 'pinn': True}\n"
     ]
    },
    {
     "name": "stderr",
     "output_type": "stream",
     "text": [
      "Evaluating EKF: 100%|██████████| 2442/2442 [00:05<00:00, 454.82it/s]\n"
     ]
    },
    {
     "name": "stdout",
     "output_type": "stream",
     "text": [
      "{'nn_on': True, 'nn_type': 'FCNN', 'year': 2017, 'lag': 0, 'vi': False, 'pinn': False}\n"
     ]
    },
    {
     "name": "stderr",
     "output_type": "stream",
     "text": [
      "Evaluating EKF: 100%|██████████| 1303/1303 [00:01<00:00, 822.53it/s]\n"
     ]
    },
    {
     "name": "stdout",
     "output_type": "stream",
     "text": [
      "{'nn_on': True, 'nn_type': 'FCNN', 'year': 2017, 'lag': 0, 'vi': False, 'pinn': True}\n"
     ]
    },
    {
     "name": "stderr",
     "output_type": "stream",
     "text": [
      "Evaluating EKF: 100%|██████████| 1303/1303 [00:01<00:00, 797.29it/s]\n"
     ]
    },
    {
     "name": "stdout",
     "output_type": "stream",
     "text": [
      "{'nn_on': True, 'nn_type': 'FCNN', 'year': 2017, 'lag': 0, 'vi': True, 'pinn': False}\n"
     ]
    },
    {
     "name": "stderr",
     "output_type": "stream",
     "text": [
      "Evaluating EKF: 100%|██████████| 1303/1303 [00:01<00:00, 833.97it/s]\n"
     ]
    },
    {
     "name": "stdout",
     "output_type": "stream",
     "text": [
      "{'nn_on': True, 'nn_type': 'FCNN', 'year': 2017, 'lag': 0, 'vi': True, 'pinn': True}\n"
     ]
    },
    {
     "name": "stderr",
     "output_type": "stream",
     "text": [
      "Evaluating EKF: 100%|██████████| 1303/1303 [00:01<00:00, 798.50it/s]\n"
     ]
    },
    {
     "name": "stdout",
     "output_type": "stream",
     "text": [
      "{'nn_on': True, 'nn_type': 'FCNN', 'year': 2017, 'lag': 3, 'vi': False, 'pinn': False}\n"
     ]
    },
    {
     "name": "stderr",
     "output_type": "stream",
     "text": [
      "Evaluating EKF: 100%|██████████| 1303/1303 [00:02<00:00, 448.54it/s]\n"
     ]
    },
    {
     "name": "stdout",
     "output_type": "stream",
     "text": [
      "{'nn_on': True, 'nn_type': 'FCNN', 'year': 2017, 'lag': 3, 'vi': False, 'pinn': True}\n"
     ]
    },
    {
     "name": "stderr",
     "output_type": "stream",
     "text": [
      "Evaluating EKF: 100%|██████████| 1303/1303 [00:02<00:00, 474.16it/s]\n"
     ]
    },
    {
     "name": "stdout",
     "output_type": "stream",
     "text": [
      "{'nn_on': True, 'nn_type': 'FCNN', 'year': 2017, 'lag': 3, 'vi': True, 'pinn': False}\n"
     ]
    },
    {
     "name": "stderr",
     "output_type": "stream",
     "text": [
      "Evaluating EKF: 100%|██████████| 1303/1303 [00:02<00:00, 446.92it/s]\n"
     ]
    },
    {
     "name": "stdout",
     "output_type": "stream",
     "text": [
      "{'nn_on': True, 'nn_type': 'FCNN', 'year': 2017, 'lag': 3, 'vi': True, 'pinn': True}\n"
     ]
    },
    {
     "name": "stderr",
     "output_type": "stream",
     "text": [
      "Evaluating EKF: 100%|██████████| 1303/1303 [00:02<00:00, 474.72it/s]\n"
     ]
    },
    {
     "name": "stdout",
     "output_type": "stream",
     "text": [
      "{'nn_on': True, 'nn_type': 'FCNN', 'year': 2018, 'lag': 0, 'vi': False, 'pinn': False}\n"
     ]
    },
    {
     "name": "stderr",
     "output_type": "stream",
     "text": [
      "Evaluating EKF: 100%|██████████| 1303/1303 [00:01<00:00, 826.41it/s]\n"
     ]
    },
    {
     "name": "stdout",
     "output_type": "stream",
     "text": [
      "{'nn_on': True, 'nn_type': 'FCNN', 'year': 2018, 'lag': 0, 'vi': False, 'pinn': True}\n"
     ]
    },
    {
     "name": "stderr",
     "output_type": "stream",
     "text": [
      "Evaluating EKF: 100%|██████████| 1303/1303 [00:01<00:00, 788.70it/s]\n"
     ]
    },
    {
     "name": "stdout",
     "output_type": "stream",
     "text": [
      "{'nn_on': True, 'nn_type': 'FCNN', 'year': 2018, 'lag': 0, 'vi': True, 'pinn': False}\n"
     ]
    },
    {
     "name": "stderr",
     "output_type": "stream",
     "text": [
      "Evaluating EKF: 100%|██████████| 1303/1303 [00:01<00:00, 824.59it/s]\n"
     ]
    },
    {
     "name": "stdout",
     "output_type": "stream",
     "text": [
      "{'nn_on': True, 'nn_type': 'FCNN', 'year': 2018, 'lag': 0, 'vi': True, 'pinn': True}\n"
     ]
    },
    {
     "name": "stderr",
     "output_type": "stream",
     "text": [
      "Evaluating EKF: 100%|██████████| 1303/1303 [00:01<00:00, 826.68it/s]\n"
     ]
    },
    {
     "name": "stdout",
     "output_type": "stream",
     "text": [
      "{'nn_on': True, 'nn_type': 'FCNN', 'year': 2018, 'lag': 3, 'vi': False, 'pinn': False}\n"
     ]
    },
    {
     "name": "stderr",
     "output_type": "stream",
     "text": [
      "Evaluating EKF: 100%|██████████| 1303/1303 [00:02<00:00, 443.10it/s]\n"
     ]
    },
    {
     "name": "stdout",
     "output_type": "stream",
     "text": [
      "{'nn_on': True, 'nn_type': 'FCNN', 'year': 2018, 'lag': 3, 'vi': False, 'pinn': True}\n"
     ]
    },
    {
     "name": "stderr",
     "output_type": "stream",
     "text": [
      "Evaluating EKF: 100%|██████████| 1303/1303 [00:02<00:00, 466.30it/s]\n"
     ]
    },
    {
     "name": "stdout",
     "output_type": "stream",
     "text": [
      "{'nn_on': True, 'nn_type': 'FCNN', 'year': 2018, 'lag': 3, 'vi': True, 'pinn': False}\n"
     ]
    },
    {
     "name": "stderr",
     "output_type": "stream",
     "text": [
      "Evaluating EKF: 100%|██████████| 1303/1303 [00:02<00:00, 461.52it/s]\n"
     ]
    },
    {
     "name": "stdout",
     "output_type": "stream",
     "text": [
      "{'nn_on': True, 'nn_type': 'FCNN', 'year': 2018, 'lag': 3, 'vi': True, 'pinn': True}\n"
     ]
    },
    {
     "name": "stderr",
     "output_type": "stream",
     "text": [
      "Evaluating EKF: 100%|██████████| 1303/1303 [00:02<00:00, 466.75it/s]\n"
     ]
    },
    {
     "name": "stdout",
     "output_type": "stream",
     "text": [
      "{'nn_on': True, 'nn_type': 'FCNN', 'year': 2019, 'lag': 0, 'vi': False, 'pinn': False}\n"
     ]
    },
    {
     "name": "stderr",
     "output_type": "stream",
     "text": [
      "Evaluating EKF: 100%|██████████| 1302/1302 [00:01<00:00, 794.42it/s]\n"
     ]
    },
    {
     "name": "stdout",
     "output_type": "stream",
     "text": [
      "{'nn_on': True, 'nn_type': 'FCNN', 'year': 2019, 'lag': 0, 'vi': False, 'pinn': True}\n"
     ]
    },
    {
     "name": "stderr",
     "output_type": "stream",
     "text": [
      "Evaluating EKF: 100%|██████████| 1302/1302 [00:01<00:00, 781.29it/s]\n"
     ]
    },
    {
     "name": "stdout",
     "output_type": "stream",
     "text": [
      "{'nn_on': True, 'nn_type': 'FCNN', 'year': 2019, 'lag': 0, 'vi': True, 'pinn': False}\n"
     ]
    },
    {
     "name": "stderr",
     "output_type": "stream",
     "text": [
      "Evaluating EKF: 100%|██████████| 1302/1302 [00:01<00:00, 789.93it/s]\n"
     ]
    },
    {
     "name": "stdout",
     "output_type": "stream",
     "text": [
      "{'nn_on': True, 'nn_type': 'FCNN', 'year': 2019, 'lag': 0, 'vi': True, 'pinn': True}\n"
     ]
    },
    {
     "name": "stderr",
     "output_type": "stream",
     "text": [
      "Evaluating EKF: 100%|██████████| 1302/1302 [00:01<00:00, 829.71it/s]\n"
     ]
    },
    {
     "name": "stdout",
     "output_type": "stream",
     "text": [
      "{'nn_on': True, 'nn_type': 'FCNN', 'year': 2019, 'lag': 3, 'vi': False, 'pinn': False}\n"
     ]
    },
    {
     "name": "stderr",
     "output_type": "stream",
     "text": [
      "Evaluating EKF: 100%|██████████| 1302/1302 [00:02<00:00, 446.28it/s]\n"
     ]
    },
    {
     "name": "stdout",
     "output_type": "stream",
     "text": [
      "{'nn_on': True, 'nn_type': 'FCNN', 'year': 2019, 'lag': 3, 'vi': False, 'pinn': True}\n"
     ]
    },
    {
     "name": "stderr",
     "output_type": "stream",
     "text": [
      "Evaluating EKF: 100%|██████████| 1302/1302 [00:02<00:00, 469.34it/s]\n"
     ]
    },
    {
     "name": "stdout",
     "output_type": "stream",
     "text": [
      "{'nn_on': True, 'nn_type': 'FCNN', 'year': 2019, 'lag': 3, 'vi': True, 'pinn': False}\n"
     ]
    },
    {
     "name": "stderr",
     "output_type": "stream",
     "text": [
      "Evaluating EKF: 100%|██████████| 1302/1302 [00:02<00:00, 443.04it/s]\n"
     ]
    },
    {
     "name": "stdout",
     "output_type": "stream",
     "text": [
      "{'nn_on': True, 'nn_type': 'FCNN', 'year': 2019, 'lag': 3, 'vi': True, 'pinn': True}\n"
     ]
    },
    {
     "name": "stderr",
     "output_type": "stream",
     "text": [
      "Evaluating EKF: 100%|██████████| 1302/1302 [00:02<00:00, 469.83it/s]\n"
     ]
    },
    {
     "name": "stdout",
     "output_type": "stream",
     "text": [
      "{'nn_on': True, 'nn_type': 'FCNN', 'year': 2020, 'lag': 0, 'vi': False, 'pinn': False}\n"
     ]
    },
    {
     "name": "stderr",
     "output_type": "stream",
     "text": [
      "Evaluating EKF: 100%|██████████| 1303/1303 [00:01<00:00, 766.23it/s]\n"
     ]
    },
    {
     "name": "stdout",
     "output_type": "stream",
     "text": [
      "{'nn_on': True, 'nn_type': 'FCNN', 'year': 2020, 'lag': 0, 'vi': False, 'pinn': True}\n"
     ]
    },
    {
     "name": "stderr",
     "output_type": "stream",
     "text": [
      "Evaluating EKF: 100%|██████████| 1303/1303 [00:01<00:00, 822.50it/s]\n"
     ]
    },
    {
     "name": "stdout",
     "output_type": "stream",
     "text": [
      "{'nn_on': True, 'nn_type': 'FCNN', 'year': 2020, 'lag': 0, 'vi': True, 'pinn': False}\n"
     ]
    },
    {
     "name": "stderr",
     "output_type": "stream",
     "text": [
      "Evaluating EKF: 100%|██████████| 1303/1303 [00:01<00:00, 804.35it/s]\n"
     ]
    },
    {
     "name": "stdout",
     "output_type": "stream",
     "text": [
      "{'nn_on': True, 'nn_type': 'FCNN', 'year': 2020, 'lag': 0, 'vi': True, 'pinn': True}\n"
     ]
    },
    {
     "name": "stderr",
     "output_type": "stream",
     "text": [
      "Evaluating EKF: 100%|██████████| 1303/1303 [00:01<00:00, 824.83it/s]\n"
     ]
    },
    {
     "name": "stdout",
     "output_type": "stream",
     "text": [
      "{'nn_on': True, 'nn_type': 'FCNN', 'year': 2020, 'lag': 3, 'vi': False, 'pinn': False}\n"
     ]
    },
    {
     "name": "stderr",
     "output_type": "stream",
     "text": [
      "Evaluating EKF: 100%|██████████| 1303/1303 [00:02<00:00, 447.98it/s]\n"
     ]
    },
    {
     "name": "stdout",
     "output_type": "stream",
     "text": [
      "{'nn_on': True, 'nn_type': 'FCNN', 'year': 2020, 'lag': 3, 'vi': False, 'pinn': True}\n"
     ]
    },
    {
     "name": "stderr",
     "output_type": "stream",
     "text": [
      "Evaluating EKF: 100%|██████████| 1303/1303 [00:02<00:00, 471.67it/s]\n"
     ]
    },
    {
     "name": "stdout",
     "output_type": "stream",
     "text": [
      "{'nn_on': True, 'nn_type': 'FCNN', 'year': 2020, 'lag': 3, 'vi': True, 'pinn': False}\n"
     ]
    },
    {
     "name": "stderr",
     "output_type": "stream",
     "text": [
      "Evaluating EKF: 100%|██████████| 1303/1303 [00:02<00:00, 446.50it/s]\n"
     ]
    },
    {
     "name": "stdout",
     "output_type": "stream",
     "text": [
      "{'nn_on': True, 'nn_type': 'FCNN', 'year': 2020, 'lag': 3, 'vi': True, 'pinn': True}\n"
     ]
    },
    {
     "name": "stderr",
     "output_type": "stream",
     "text": [
      "Evaluating EKF: 100%|██████████| 1303/1303 [00:02<00:00, 471.51it/s]\n"
     ]
    },
    {
     "name": "stdout",
     "output_type": "stream",
     "text": [
      "{'nn_on': True, 'nn_type': 'GRU', 'year': 2016, 'lag': 0, 'vi': False, 'pinn': False}\n"
     ]
    },
    {
     "name": "stderr",
     "output_type": "stream",
     "text": [
      "Evaluating EKF: 100%|██████████| 2442/2442 [00:03<00:00, 796.96it/s]\n"
     ]
    },
    {
     "name": "stdout",
     "output_type": "stream",
     "text": [
      "{'nn_on': True, 'nn_type': 'GRU', 'year': 2016, 'lag': 0, 'vi': False, 'pinn': True}\n"
     ]
    },
    {
     "name": "stderr",
     "output_type": "stream",
     "text": [
      "Evaluating EKF: 100%|██████████| 2442/2442 [00:03<00:00, 769.70it/s]\n"
     ]
    },
    {
     "name": "stdout",
     "output_type": "stream",
     "text": [
      "{'nn_on': True, 'nn_type': 'GRU', 'year': 2016, 'lag': 0, 'vi': True, 'pinn': False}\n"
     ]
    },
    {
     "name": "stderr",
     "output_type": "stream",
     "text": [
      "Evaluating EKF: 100%|██████████| 2442/2442 [00:03<00:00, 808.99it/s]\n"
     ]
    },
    {
     "name": "stdout",
     "output_type": "stream",
     "text": [
      "{'nn_on': True, 'nn_type': 'GRU', 'year': 2016, 'lag': 0, 'vi': True, 'pinn': True}\n"
     ]
    },
    {
     "name": "stderr",
     "output_type": "stream",
     "text": [
      "Evaluating EKF: 100%|██████████| 2442/2442 [00:02<00:00, 814.04it/s]\n"
     ]
    },
    {
     "name": "stdout",
     "output_type": "stream",
     "text": [
      "{'nn_on': True, 'nn_type': 'GRU', 'year': 2016, 'lag': 3, 'vi': False, 'pinn': False}\n"
     ]
    },
    {
     "name": "stderr",
     "output_type": "stream",
     "text": [
      "Evaluating EKF: 100%|██████████| 2442/2442 [00:05<00:00, 445.26it/s]\n"
     ]
    },
    {
     "name": "stdout",
     "output_type": "stream",
     "text": [
      "{'nn_on': True, 'nn_type': 'GRU', 'year': 2016, 'lag': 3, 'vi': False, 'pinn': True}\n"
     ]
    },
    {
     "name": "stderr",
     "output_type": "stream",
     "text": [
      "Evaluating EKF: 100%|██████████| 2442/2442 [00:05<00:00, 455.50it/s]\n"
     ]
    },
    {
     "name": "stdout",
     "output_type": "stream",
     "text": [
      "{'nn_on': True, 'nn_type': 'GRU', 'year': 2016, 'lag': 3, 'vi': True, 'pinn': False}\n"
     ]
    },
    {
     "name": "stderr",
     "output_type": "stream",
     "text": [
      "Evaluating EKF: 100%|██████████| 2442/2442 [00:05<00:00, 446.97it/s]\n"
     ]
    },
    {
     "name": "stdout",
     "output_type": "stream",
     "text": [
      "{'nn_on': True, 'nn_type': 'GRU', 'year': 2016, 'lag': 3, 'vi': True, 'pinn': True}\n"
     ]
    },
    {
     "name": "stderr",
     "output_type": "stream",
     "text": [
      "Evaluating EKF: 100%|██████████| 2442/2442 [00:05<00:00, 454.15it/s]\n"
     ]
    },
    {
     "name": "stdout",
     "output_type": "stream",
     "text": [
      "{'nn_on': True, 'nn_type': 'GRU', 'year': 2017, 'lag': 0, 'vi': False, 'pinn': False}\n"
     ]
    },
    {
     "name": "stderr",
     "output_type": "stream",
     "text": [
      "Evaluating EKF: 100%|██████████| 1303/1303 [00:01<00:00, 814.35it/s]\n"
     ]
    },
    {
     "name": "stdout",
     "output_type": "stream",
     "text": [
      "{'nn_on': True, 'nn_type': 'GRU', 'year': 2017, 'lag': 0, 'vi': False, 'pinn': True}\n"
     ]
    },
    {
     "name": "stderr",
     "output_type": "stream",
     "text": [
      "Evaluating EKF: 100%|██████████| 1303/1303 [00:01<00:00, 828.55it/s]\n"
     ]
    },
    {
     "name": "stdout",
     "output_type": "stream",
     "text": [
      "{'nn_on': True, 'nn_type': 'GRU', 'year': 2017, 'lag': 0, 'vi': True, 'pinn': False}\n"
     ]
    },
    {
     "name": "stderr",
     "output_type": "stream",
     "text": [
      "Evaluating EKF: 100%|██████████| 1303/1303 [00:01<00:00, 821.46it/s]\n"
     ]
    },
    {
     "name": "stdout",
     "output_type": "stream",
     "text": [
      "{'nn_on': True, 'nn_type': 'GRU', 'year': 2017, 'lag': 0, 'vi': True, 'pinn': True}\n"
     ]
    },
    {
     "name": "stderr",
     "output_type": "stream",
     "text": [
      "Evaluating EKF: 100%|██████████| 1303/1303 [00:01<00:00, 798.24it/s]\n"
     ]
    },
    {
     "name": "stdout",
     "output_type": "stream",
     "text": [
      "{'nn_on': True, 'nn_type': 'GRU', 'year': 2017, 'lag': 3, 'vi': False, 'pinn': False}\n"
     ]
    },
    {
     "name": "stderr",
     "output_type": "stream",
     "text": [
      "Evaluating EKF: 100%|██████████| 1303/1303 [00:02<00:00, 441.82it/s]\n"
     ]
    },
    {
     "name": "stdout",
     "output_type": "stream",
     "text": [
      "{'nn_on': True, 'nn_type': 'GRU', 'year': 2017, 'lag': 3, 'vi': False, 'pinn': True}\n"
     ]
    },
    {
     "name": "stderr",
     "output_type": "stream",
     "text": [
      "Evaluating EKF: 100%|██████████| 1303/1303 [00:02<00:00, 468.72it/s]\n"
     ]
    },
    {
     "name": "stdout",
     "output_type": "stream",
     "text": [
      "{'nn_on': True, 'nn_type': 'GRU', 'year': 2017, 'lag': 3, 'vi': True, 'pinn': False}\n"
     ]
    },
    {
     "name": "stderr",
     "output_type": "stream",
     "text": [
      "Evaluating EKF: 100%|██████████| 1303/1303 [00:02<00:00, 440.77it/s]\n"
     ]
    },
    {
     "name": "stdout",
     "output_type": "stream",
     "text": [
      "{'nn_on': True, 'nn_type': 'GRU', 'year': 2017, 'lag': 3, 'vi': True, 'pinn': True}\n"
     ]
    },
    {
     "name": "stderr",
     "output_type": "stream",
     "text": [
      "Evaluating EKF: 100%|██████████| 1303/1303 [00:02<00:00, 465.03it/s]\n"
     ]
    },
    {
     "name": "stdout",
     "output_type": "stream",
     "text": [
      "{'nn_on': True, 'nn_type': 'GRU', 'year': 2018, 'lag': 0, 'vi': False, 'pinn': False}\n"
     ]
    },
    {
     "name": "stderr",
     "output_type": "stream",
     "text": [
      "Evaluating EKF: 100%|██████████| 1303/1303 [00:01<00:00, 797.82it/s]\n"
     ]
    },
    {
     "name": "stdout",
     "output_type": "stream",
     "text": [
      "{'nn_on': True, 'nn_type': 'GRU', 'year': 2018, 'lag': 0, 'vi': False, 'pinn': True}\n"
     ]
    },
    {
     "name": "stderr",
     "output_type": "stream",
     "text": [
      "Evaluating EKF: 100%|██████████| 1303/1303 [00:01<00:00, 794.74it/s]\n"
     ]
    },
    {
     "name": "stdout",
     "output_type": "stream",
     "text": [
      "{'nn_on': True, 'nn_type': 'GRU', 'year': 2018, 'lag': 0, 'vi': True, 'pinn': False}\n"
     ]
    },
    {
     "name": "stderr",
     "output_type": "stream",
     "text": [
      "Evaluating EKF: 100%|██████████| 1303/1303 [00:01<00:00, 785.89it/s]\n"
     ]
    },
    {
     "name": "stdout",
     "output_type": "stream",
     "text": [
      "{'nn_on': True, 'nn_type': 'GRU', 'year': 2018, 'lag': 0, 'vi': True, 'pinn': True}\n"
     ]
    },
    {
     "name": "stderr",
     "output_type": "stream",
     "text": [
      "Evaluating EKF: 100%|██████████| 1303/1303 [00:01<00:00, 795.23it/s]\n"
     ]
    },
    {
     "name": "stdout",
     "output_type": "stream",
     "text": [
      "{'nn_on': True, 'nn_type': 'GRU', 'year': 2018, 'lag': 3, 'vi': False, 'pinn': False}\n"
     ]
    },
    {
     "name": "stderr",
     "output_type": "stream",
     "text": [
      "Evaluating EKF: 100%|██████████| 1303/1303 [00:02<00:00, 442.52it/s]\n"
     ]
    },
    {
     "name": "stdout",
     "output_type": "stream",
     "text": [
      "{'nn_on': True, 'nn_type': 'GRU', 'year': 2018, 'lag': 3, 'vi': False, 'pinn': True}\n"
     ]
    },
    {
     "name": "stderr",
     "output_type": "stream",
     "text": [
      "Evaluating EKF: 100%|██████████| 1303/1303 [00:02<00:00, 467.22it/s]\n"
     ]
    },
    {
     "name": "stdout",
     "output_type": "stream",
     "text": [
      "{'nn_on': True, 'nn_type': 'GRU', 'year': 2018, 'lag': 3, 'vi': True, 'pinn': False}\n"
     ]
    },
    {
     "name": "stderr",
     "output_type": "stream",
     "text": [
      "Evaluating EKF: 100%|██████████| 1303/1303 [00:02<00:00, 445.02it/s]\n"
     ]
    },
    {
     "name": "stdout",
     "output_type": "stream",
     "text": [
      "{'nn_on': True, 'nn_type': 'GRU', 'year': 2018, 'lag': 3, 'vi': True, 'pinn': True}\n"
     ]
    },
    {
     "name": "stderr",
     "output_type": "stream",
     "text": [
      "Evaluating EKF: 100%|██████████| 1303/1303 [00:02<00:00, 450.83it/s]\n"
     ]
    },
    {
     "name": "stdout",
     "output_type": "stream",
     "text": [
      "{'nn_on': True, 'nn_type': 'GRU', 'year': 2019, 'lag': 0, 'vi': False, 'pinn': False}\n"
     ]
    },
    {
     "name": "stderr",
     "output_type": "stream",
     "text": [
      "Evaluating EKF: 100%|██████████| 1302/1302 [00:01<00:00, 821.04it/s]\n"
     ]
    },
    {
     "name": "stdout",
     "output_type": "stream",
     "text": [
      "{'nn_on': True, 'nn_type': 'GRU', 'year': 2019, 'lag': 0, 'vi': False, 'pinn': True}\n"
     ]
    },
    {
     "name": "stderr",
     "output_type": "stream",
     "text": [
      "Evaluating EKF: 100%|██████████| 1302/1302 [00:01<00:00, 791.82it/s]\n"
     ]
    },
    {
     "name": "stdout",
     "output_type": "stream",
     "text": [
      "{'nn_on': True, 'nn_type': 'GRU', 'year': 2019, 'lag': 0, 'vi': True, 'pinn': False}\n"
     ]
    },
    {
     "name": "stderr",
     "output_type": "stream",
     "text": [
      "Evaluating EKF: 100%|██████████| 1302/1302 [00:01<00:00, 788.97it/s]\n"
     ]
    },
    {
     "name": "stdout",
     "output_type": "stream",
     "text": [
      "{'nn_on': True, 'nn_type': 'GRU', 'year': 2019, 'lag': 0, 'vi': True, 'pinn': True}\n"
     ]
    },
    {
     "name": "stderr",
     "output_type": "stream",
     "text": [
      "Evaluating EKF: 100%|██████████| 1302/1302 [00:01<00:00, 823.05it/s]\n"
     ]
    },
    {
     "name": "stdout",
     "output_type": "stream",
     "text": [
      "{'nn_on': True, 'nn_type': 'GRU', 'year': 2019, 'lag': 3, 'vi': False, 'pinn': False}\n"
     ]
    },
    {
     "name": "stderr",
     "output_type": "stream",
     "text": [
      "Evaluating EKF: 100%|██████████| 1302/1302 [00:02<00:00, 447.29it/s]\n"
     ]
    },
    {
     "name": "stdout",
     "output_type": "stream",
     "text": [
      "{'nn_on': True, 'nn_type': 'GRU', 'year': 2019, 'lag': 3, 'vi': False, 'pinn': True}\n"
     ]
    },
    {
     "name": "stderr",
     "output_type": "stream",
     "text": [
      "Evaluating EKF: 100%|██████████| 1302/1302 [00:02<00:00, 451.41it/s]\n"
     ]
    },
    {
     "name": "stdout",
     "output_type": "stream",
     "text": [
      "{'nn_on': True, 'nn_type': 'GRU', 'year': 2019, 'lag': 3, 'vi': True, 'pinn': False}\n"
     ]
    },
    {
     "name": "stderr",
     "output_type": "stream",
     "text": [
      "Evaluating EKF: 100%|██████████| 1302/1302 [00:02<00:00, 468.97it/s]\n"
     ]
    },
    {
     "name": "stdout",
     "output_type": "stream",
     "text": [
      "{'nn_on': True, 'nn_type': 'GRU', 'year': 2019, 'lag': 3, 'vi': True, 'pinn': True}\n"
     ]
    },
    {
     "name": "stderr",
     "output_type": "stream",
     "text": [
      "Evaluating EKF: 100%|██████████| 1302/1302 [00:02<00:00, 444.92it/s]\n"
     ]
    },
    {
     "name": "stdout",
     "output_type": "stream",
     "text": [
      "{'nn_on': True, 'nn_type': 'GRU', 'year': 2020, 'lag': 0, 'vi': False, 'pinn': False}\n"
     ]
    },
    {
     "name": "stderr",
     "output_type": "stream",
     "text": [
      "Evaluating EKF: 100%|██████████| 1303/1303 [00:01<00:00, 826.45it/s]\n"
     ]
    },
    {
     "name": "stdout",
     "output_type": "stream",
     "text": [
      "{'nn_on': True, 'nn_type': 'GRU', 'year': 2020, 'lag': 0, 'vi': False, 'pinn': True}\n"
     ]
    },
    {
     "name": "stderr",
     "output_type": "stream",
     "text": [
      "Evaluating EKF: 100%|██████████| 1303/1303 [00:01<00:00, 796.24it/s]\n"
     ]
    },
    {
     "name": "stdout",
     "output_type": "stream",
     "text": [
      "{'nn_on': True, 'nn_type': 'GRU', 'year': 2020, 'lag': 0, 'vi': True, 'pinn': False}\n"
     ]
    },
    {
     "name": "stderr",
     "output_type": "stream",
     "text": [
      "Evaluating EKF: 100%|██████████| 1303/1303 [00:01<00:00, 785.01it/s]\n"
     ]
    },
    {
     "name": "stdout",
     "output_type": "stream",
     "text": [
      "{'nn_on': True, 'nn_type': 'GRU', 'year': 2020, 'lag': 0, 'vi': True, 'pinn': True}\n"
     ]
    },
    {
     "name": "stderr",
     "output_type": "stream",
     "text": [
      "Evaluating EKF: 100%|██████████| 1303/1303 [00:01<00:00, 796.24it/s]\n"
     ]
    },
    {
     "name": "stdout",
     "output_type": "stream",
     "text": [
      "{'nn_on': True, 'nn_type': 'GRU', 'year': 2020, 'lag': 3, 'vi': False, 'pinn': False}\n"
     ]
    },
    {
     "name": "stderr",
     "output_type": "stream",
     "text": [
      "Evaluating EKF: 100%|██████████| 1303/1303 [00:02<00:00, 435.54it/s]\n"
     ]
    },
    {
     "name": "stdout",
     "output_type": "stream",
     "text": [
      "{'nn_on': True, 'nn_type': 'GRU', 'year': 2020, 'lag': 3, 'vi': False, 'pinn': True}\n"
     ]
    },
    {
     "name": "stderr",
     "output_type": "stream",
     "text": [
      "Evaluating EKF: 100%|██████████| 1303/1303 [00:02<00:00, 463.29it/s]\n"
     ]
    },
    {
     "name": "stdout",
     "output_type": "stream",
     "text": [
      "{'nn_on': True, 'nn_type': 'GRU', 'year': 2020, 'lag': 3, 'vi': True, 'pinn': False}\n"
     ]
    },
    {
     "name": "stderr",
     "output_type": "stream",
     "text": [
      "Evaluating EKF: 100%|██████████| 1303/1303 [00:02<00:00, 458.37it/s]\n"
     ]
    },
    {
     "name": "stdout",
     "output_type": "stream",
     "text": [
      "{'nn_on': True, 'nn_type': 'GRU', 'year': 2020, 'lag': 3, 'vi': True, 'pinn': True}\n"
     ]
    },
    {
     "name": "stderr",
     "output_type": "stream",
     "text": [
      "Evaluating EKF: 100%|██████████| 1303/1303 [00:02<00:00, 464.42it/s]\n"
     ]
    },
    {
     "name": "stdout",
     "output_type": "stream",
     "text": [
      "{'nn_on': True, 'nn_type': 'LSTM', 'year': 2016, 'lag': 0, 'vi': False, 'pinn': False}\n"
     ]
    },
    {
     "name": "stderr",
     "output_type": "stream",
     "text": [
      "Evaluating EKF: 100%|██████████| 2442/2442 [00:03<00:00, 791.64it/s]\n"
     ]
    },
    {
     "name": "stdout",
     "output_type": "stream",
     "text": [
      "{'nn_on': True, 'nn_type': 'LSTM', 'year': 2016, 'lag': 0, 'vi': False, 'pinn': True}\n"
     ]
    },
    {
     "name": "stderr",
     "output_type": "stream",
     "text": [
      "Evaluating EKF: 100%|██████████| 2442/2442 [00:03<00:00, 794.73it/s]\n"
     ]
    },
    {
     "name": "stdout",
     "output_type": "stream",
     "text": [
      "{'nn_on': True, 'nn_type': 'LSTM', 'year': 2016, 'lag': 0, 'vi': True, 'pinn': False}\n"
     ]
    },
    {
     "name": "stderr",
     "output_type": "stream",
     "text": [
      "Evaluating EKF: 100%|██████████| 2442/2442 [00:03<00:00, 764.27it/s]\n"
     ]
    },
    {
     "name": "stdout",
     "output_type": "stream",
     "text": [
      "{'nn_on': True, 'nn_type': 'LSTM', 'year': 2016, 'lag': 0, 'vi': True, 'pinn': True}\n"
     ]
    },
    {
     "name": "stderr",
     "output_type": "stream",
     "text": [
      "Evaluating EKF: 100%|██████████| 2442/2442 [00:03<00:00, 783.51it/s]\n"
     ]
    },
    {
     "name": "stdout",
     "output_type": "stream",
     "text": [
      "{'nn_on': True, 'nn_type': 'LSTM', 'year': 2016, 'lag': 3, 'vi': False, 'pinn': False}\n"
     ]
    },
    {
     "name": "stderr",
     "output_type": "stream",
     "text": [
      "Evaluating EKF: 100%|██████████| 2442/2442 [00:05<00:00, 453.19it/s]\n"
     ]
    },
    {
     "name": "stdout",
     "output_type": "stream",
     "text": [
      "{'nn_on': True, 'nn_type': 'LSTM', 'year': 2016, 'lag': 3, 'vi': False, 'pinn': True}\n"
     ]
    },
    {
     "name": "stderr",
     "output_type": "stream",
     "text": [
      "Evaluating EKF: 100%|██████████| 2442/2442 [00:05<00:00, 444.48it/s]\n"
     ]
    },
    {
     "name": "stdout",
     "output_type": "stream",
     "text": [
      "{'nn_on': True, 'nn_type': 'LSTM', 'year': 2016, 'lag': 3, 'vi': True, 'pinn': False}\n"
     ]
    },
    {
     "name": "stderr",
     "output_type": "stream",
     "text": [
      "Evaluating EKF: 100%|██████████| 2442/2442 [00:05<00:00, 463.12it/s]\n"
     ]
    },
    {
     "name": "stdout",
     "output_type": "stream",
     "text": [
      "{'nn_on': True, 'nn_type': 'LSTM', 'year': 2016, 'lag': 3, 'vi': True, 'pinn': True}\n"
     ]
    },
    {
     "name": "stderr",
     "output_type": "stream",
     "text": [
      "Evaluating EKF: 100%|██████████| 2442/2442 [00:05<00:00, 447.29it/s]\n"
     ]
    },
    {
     "name": "stdout",
     "output_type": "stream",
     "text": [
      "{'nn_on': True, 'nn_type': 'LSTM', 'year': 2017, 'lag': 0, 'vi': False, 'pinn': False}\n"
     ]
    },
    {
     "name": "stderr",
     "output_type": "stream",
     "text": [
      "Evaluating EKF: 100%|██████████| 1303/1303 [00:01<00:00, 818.75it/s]\n"
     ]
    },
    {
     "name": "stdout",
     "output_type": "stream",
     "text": [
      "{'nn_on': True, 'nn_type': 'LSTM', 'year': 2017, 'lag': 0, 'vi': False, 'pinn': True}\n"
     ]
    },
    {
     "name": "stderr",
     "output_type": "stream",
     "text": [
      "Evaluating EKF: 100%|██████████| 1303/1303 [00:01<00:00, 821.46it/s]\n"
     ]
    },
    {
     "name": "stdout",
     "output_type": "stream",
     "text": [
      "{'nn_on': True, 'nn_type': 'LSTM', 'year': 2017, 'lag': 0, 'vi': True, 'pinn': False}\n"
     ]
    },
    {
     "name": "stderr",
     "output_type": "stream",
     "text": [
      "Evaluating EKF: 100%|██████████| 1303/1303 [00:01<00:00, 795.02it/s]\n"
     ]
    },
    {
     "name": "stdout",
     "output_type": "stream",
     "text": [
      "{'nn_on': True, 'nn_type': 'LSTM', 'year': 2017, 'lag': 0, 'vi': True, 'pinn': True}\n"
     ]
    },
    {
     "name": "stderr",
     "output_type": "stream",
     "text": [
      "Evaluating EKF: 100%|██████████| 1303/1303 [00:01<00:00, 758.81it/s]\n"
     ]
    },
    {
     "name": "stdout",
     "output_type": "stream",
     "text": [
      "{'nn_on': True, 'nn_type': 'LSTM', 'year': 2017, 'lag': 3, 'vi': False, 'pinn': False}\n"
     ]
    },
    {
     "name": "stderr",
     "output_type": "stream",
     "text": [
      "Evaluating EKF: 100%|██████████| 1303/1303 [00:03<00:00, 413.97it/s]\n"
     ]
    },
    {
     "name": "stdout",
     "output_type": "stream",
     "text": [
      "{'nn_on': True, 'nn_type': 'LSTM', 'year': 2017, 'lag': 3, 'vi': False, 'pinn': True}\n"
     ]
    },
    {
     "name": "stderr",
     "output_type": "stream",
     "text": [
      "Evaluating EKF: 100%|██████████| 1303/1303 [00:02<00:00, 448.45it/s]\n"
     ]
    },
    {
     "name": "stdout",
     "output_type": "stream",
     "text": [
      "{'nn_on': True, 'nn_type': 'LSTM', 'year': 2017, 'lag': 3, 'vi': True, 'pinn': False}\n"
     ]
    },
    {
     "name": "stderr",
     "output_type": "stream",
     "text": [
      "Evaluating EKF: 100%|██████████| 1303/1303 [00:03<00:00, 415.10it/s]\n"
     ]
    },
    {
     "name": "stdout",
     "output_type": "stream",
     "text": [
      "{'nn_on': True, 'nn_type': 'LSTM', 'year': 2017, 'lag': 3, 'vi': True, 'pinn': True}\n"
     ]
    },
    {
     "name": "stderr",
     "output_type": "stream",
     "text": [
      "Evaluating EKF: 100%|██████████| 1303/1303 [00:02<00:00, 446.59it/s]\n"
     ]
    },
    {
     "name": "stdout",
     "output_type": "stream",
     "text": [
      "{'nn_on': True, 'nn_type': 'LSTM', 'year': 2018, 'lag': 0, 'vi': False, 'pinn': False}\n"
     ]
    },
    {
     "name": "stderr",
     "output_type": "stream",
     "text": [
      "Evaluating EKF: 100%|██████████| 1303/1303 [00:01<00:00, 761.00it/s]\n"
     ]
    },
    {
     "name": "stdout",
     "output_type": "stream",
     "text": [
      "{'nn_on': True, 'nn_type': 'LSTM', 'year': 2018, 'lag': 0, 'vi': False, 'pinn': True}\n"
     ]
    },
    {
     "name": "stderr",
     "output_type": "stream",
     "text": [
      "Evaluating EKF: 100%|██████████| 1303/1303 [00:01<00:00, 754.34it/s]\n"
     ]
    },
    {
     "name": "stdout",
     "output_type": "stream",
     "text": [
      "{'nn_on': True, 'nn_type': 'LSTM', 'year': 2018, 'lag': 0, 'vi': True, 'pinn': False}\n"
     ]
    },
    {
     "name": "stderr",
     "output_type": "stream",
     "text": [
      "Evaluating EKF: 100%|██████████| 1303/1303 [00:01<00:00, 755.08it/s]\n"
     ]
    },
    {
     "name": "stdout",
     "output_type": "stream",
     "text": [
      "{'nn_on': True, 'nn_type': 'LSTM', 'year': 2018, 'lag': 0, 'vi': True, 'pinn': True}\n"
     ]
    },
    {
     "name": "stderr",
     "output_type": "stream",
     "text": [
      "Evaluating EKF: 100%|██████████| 1303/1303 [00:01<00:00, 758.81it/s]\n"
     ]
    },
    {
     "name": "stdout",
     "output_type": "stream",
     "text": [
      "{'nn_on': True, 'nn_type': 'LSTM', 'year': 2018, 'lag': 3, 'vi': False, 'pinn': False}\n"
     ]
    },
    {
     "name": "stderr",
     "output_type": "stream",
     "text": [
      "Evaluating EKF: 100%|██████████| 1303/1303 [00:03<00:00, 421.28it/s]\n"
     ]
    },
    {
     "name": "stdout",
     "output_type": "stream",
     "text": [
      "{'nn_on': True, 'nn_type': 'LSTM', 'year': 2018, 'lag': 3, 'vi': False, 'pinn': True}\n"
     ]
    },
    {
     "name": "stderr",
     "output_type": "stream",
     "text": [
      "Evaluating EKF: 100%|██████████| 1303/1303 [00:02<00:00, 446.65it/s]\n"
     ]
    },
    {
     "name": "stdout",
     "output_type": "stream",
     "text": [
      "{'nn_on': True, 'nn_type': 'LSTM', 'year': 2018, 'lag': 3, 'vi': True, 'pinn': False}\n"
     ]
    },
    {
     "name": "stderr",
     "output_type": "stream",
     "text": [
      "Evaluating EKF: 100%|██████████| 1303/1303 [00:03<00:00, 420.28it/s]\n"
     ]
    },
    {
     "name": "stdout",
     "output_type": "stream",
     "text": [
      "{'nn_on': True, 'nn_type': 'LSTM', 'year': 2018, 'lag': 3, 'vi': True, 'pinn': True}\n"
     ]
    },
    {
     "name": "stderr",
     "output_type": "stream",
     "text": [
      "Evaluating EKF: 100%|██████████| 1303/1303 [00:03<00:00, 430.38it/s]\n"
     ]
    },
    {
     "name": "stdout",
     "output_type": "stream",
     "text": [
      "{'nn_on': True, 'nn_type': 'LSTM', 'year': 2019, 'lag': 0, 'vi': False, 'pinn': False}\n"
     ]
    },
    {
     "name": "stderr",
     "output_type": "stream",
     "text": [
      "Evaluating EKF: 100%|██████████| 1302/1302 [00:01<00:00, 774.52it/s]\n"
     ]
    },
    {
     "name": "stdout",
     "output_type": "stream",
     "text": [
      "{'nn_on': True, 'nn_type': 'LSTM', 'year': 2019, 'lag': 0, 'vi': False, 'pinn': True}\n"
     ]
    },
    {
     "name": "stderr",
     "output_type": "stream",
     "text": [
      "Evaluating EKF: 100%|██████████| 1302/1302 [00:01<00:00, 747.61it/s]\n"
     ]
    },
    {
     "name": "stdout",
     "output_type": "stream",
     "text": [
      "{'nn_on': True, 'nn_type': 'LSTM', 'year': 2019, 'lag': 0, 'vi': True, 'pinn': False}\n"
     ]
    },
    {
     "name": "stderr",
     "output_type": "stream",
     "text": [
      "Evaluating EKF: 100%|██████████| 1302/1302 [00:01<00:00, 741.63it/s]\n"
     ]
    },
    {
     "name": "stdout",
     "output_type": "stream",
     "text": [
      "{'nn_on': True, 'nn_type': 'LSTM', 'year': 2019, 'lag': 0, 'vi': True, 'pinn': True}\n"
     ]
    },
    {
     "name": "stderr",
     "output_type": "stream",
     "text": [
      "Evaluating EKF: 100%|██████████| 1302/1302 [00:01<00:00, 795.13it/s]\n"
     ]
    },
    {
     "name": "stdout",
     "output_type": "stream",
     "text": [
      "{'nn_on': True, 'nn_type': 'LSTM', 'year': 2019, 'lag': 3, 'vi': False, 'pinn': False}\n"
     ]
    },
    {
     "name": "stderr",
     "output_type": "stream",
     "text": [
      "Evaluating EKF: 100%|██████████| 1302/1302 [00:03<00:00, 420.40it/s]\n"
     ]
    },
    {
     "name": "stdout",
     "output_type": "stream",
     "text": [
      "{'nn_on': True, 'nn_type': 'LSTM', 'year': 2019, 'lag': 3, 'vi': False, 'pinn': True}\n"
     ]
    },
    {
     "name": "stderr",
     "output_type": "stream",
     "text": [
      "Evaluating EKF: 100%|██████████| 1302/1302 [00:03<00:00, 431.27it/s]\n"
     ]
    },
    {
     "name": "stdout",
     "output_type": "stream",
     "text": [
      "{'nn_on': True, 'nn_type': 'LSTM', 'year': 2019, 'lag': 3, 'vi': True, 'pinn': False}\n"
     ]
    },
    {
     "name": "stderr",
     "output_type": "stream",
     "text": [
      "Evaluating EKF: 100%|██████████| 1302/1302 [00:02<00:00, 449.86it/s]\n"
     ]
    },
    {
     "name": "stdout",
     "output_type": "stream",
     "text": [
      "{'nn_on': True, 'nn_type': 'LSTM', 'year': 2019, 'lag': 3, 'vi': True, 'pinn': True}\n"
     ]
    },
    {
     "name": "stderr",
     "output_type": "stream",
     "text": [
      "Evaluating EKF: 100%|██████████| 1302/1302 [00:03<00:00, 420.09it/s]\n"
     ]
    },
    {
     "name": "stdout",
     "output_type": "stream",
     "text": [
      "{'nn_on': True, 'nn_type': 'LSTM', 'year': 2020, 'lag': 0, 'vi': False, 'pinn': False}\n"
     ]
    },
    {
     "name": "stderr",
     "output_type": "stream",
     "text": [
      "Evaluating EKF: 100%|██████████| 1303/1303 [00:01<00:00, 789.81it/s]\n"
     ]
    },
    {
     "name": "stdout",
     "output_type": "stream",
     "text": [
      "{'nn_on': True, 'nn_type': 'LSTM', 'year': 2020, 'lag': 0, 'vi': False, 'pinn': True}\n"
     ]
    },
    {
     "name": "stderr",
     "output_type": "stream",
     "text": [
      "Evaluating EKF: 100%|██████████| 1303/1303 [00:01<00:00, 753.86it/s]\n"
     ]
    },
    {
     "name": "stdout",
     "output_type": "stream",
     "text": [
      "{'nn_on': True, 'nn_type': 'LSTM', 'year': 2020, 'lag': 0, 'vi': True, 'pinn': False}\n"
     ]
    },
    {
     "name": "stderr",
     "output_type": "stream",
     "text": [
      "Evaluating EKF: 100%|██████████| 1303/1303 [00:01<00:00, 759.55it/s]\n"
     ]
    },
    {
     "name": "stdout",
     "output_type": "stream",
     "text": [
      "{'nn_on': True, 'nn_type': 'LSTM', 'year': 2020, 'lag': 0, 'vi': True, 'pinn': True}\n"
     ]
    },
    {
     "name": "stderr",
     "output_type": "stream",
     "text": [
      "Evaluating EKF: 100%|██████████| 1303/1303 [00:01<00:00, 752.09it/s]\n"
     ]
    },
    {
     "name": "stdout",
     "output_type": "stream",
     "text": [
      "{'nn_on': True, 'nn_type': 'LSTM', 'year': 2020, 'lag': 3, 'vi': False, 'pinn': False}\n"
     ]
    },
    {
     "name": "stderr",
     "output_type": "stream",
     "text": [
      "Evaluating EKF: 100%|██████████| 1303/1303 [00:03<00:00, 415.19it/s]\n"
     ]
    },
    {
     "name": "stdout",
     "output_type": "stream",
     "text": [
      "{'nn_on': True, 'nn_type': 'LSTM', 'year': 2020, 'lag': 3, 'vi': False, 'pinn': True}\n"
     ]
    },
    {
     "name": "stderr",
     "output_type": "stream",
     "text": [
      "Evaluating EKF: 100%|██████████| 1303/1303 [00:02<00:00, 446.92it/s]\n"
     ]
    },
    {
     "name": "stdout",
     "output_type": "stream",
     "text": [
      "{'nn_on': True, 'nn_type': 'LSTM', 'year': 2020, 'lag': 3, 'vi': True, 'pinn': False}\n"
     ]
    },
    {
     "name": "stderr",
     "output_type": "stream",
     "text": [
      "Evaluating EKF: 100%|██████████| 1303/1303 [00:03<00:00, 418.61it/s]\n"
     ]
    },
    {
     "name": "stdout",
     "output_type": "stream",
     "text": [
      "{'nn_on': True, 'nn_type': 'LSTM', 'year': 2020, 'lag': 3, 'vi': True, 'pinn': True}\n"
     ]
    },
    {
     "name": "stderr",
     "output_type": "stream",
     "text": [
      "Evaluating EKF: 100%|██████████| 1303/1303 [00:03<00:00, 427.16it/s]\n"
     ]
    },
    {
     "name": "stdout",
     "output_type": "stream",
     "text": [
      "{'nn_on': True, 'nn_type': 'RNN', 'year': 2016, 'lag': 0, 'vi': False, 'pinn': False}\n"
     ]
    },
    {
     "name": "stderr",
     "output_type": "stream",
     "text": [
      "Evaluating EKF: 100%|██████████| 2442/2442 [00:03<00:00, 774.52it/s]\n"
     ]
    },
    {
     "name": "stdout",
     "output_type": "stream",
     "text": [
      "{'nn_on': True, 'nn_type': 'RNN', 'year': 2016, 'lag': 0, 'vi': False, 'pinn': True}\n"
     ]
    },
    {
     "name": "stderr",
     "output_type": "stream",
     "text": [
      "Evaluating EKF: 100%|██████████| 2442/2442 [00:03<00:00, 756.15it/s]\n"
     ]
    },
    {
     "name": "stdout",
     "output_type": "stream",
     "text": [
      "{'nn_on': True, 'nn_type': 'RNN', 'year': 2016, 'lag': 0, 'vi': True, 'pinn': False}\n"
     ]
    },
    {
     "name": "stderr",
     "output_type": "stream",
     "text": [
      "Evaluating EKF: 100%|██████████| 2442/2442 [00:03<00:00, 728.95it/s]\n"
     ]
    },
    {
     "name": "stdout",
     "output_type": "stream",
     "text": [
      "{'nn_on': True, 'nn_type': 'RNN', 'year': 2016, 'lag': 0, 'vi': True, 'pinn': True}\n"
     ]
    },
    {
     "name": "stderr",
     "output_type": "stream",
     "text": [
      "Evaluating EKF: 100%|██████████| 2442/2442 [00:03<00:00, 745.41it/s]\n"
     ]
    },
    {
     "name": "stdout",
     "output_type": "stream",
     "text": [
      "{'nn_on': True, 'nn_type': 'RNN', 'year': 2016, 'lag': 3, 'vi': False, 'pinn': False}\n"
     ]
    },
    {
     "name": "stderr",
     "output_type": "stream",
     "text": [
      "Evaluating EKF: 100%|██████████| 2442/2442 [00:05<00:00, 435.57it/s]\n"
     ]
    },
    {
     "name": "stdout",
     "output_type": "stream",
     "text": [
      "{'nn_on': True, 'nn_type': 'RNN', 'year': 2016, 'lag': 3, 'vi': False, 'pinn': True}\n"
     ]
    },
    {
     "name": "stderr",
     "output_type": "stream",
     "text": [
      "Evaluating EKF: 100%|██████████| 2442/2442 [00:05<00:00, 428.75it/s]\n"
     ]
    },
    {
     "name": "stdout",
     "output_type": "stream",
     "text": [
      "{'nn_on': True, 'nn_type': 'RNN', 'year': 2016, 'lag': 3, 'vi': True, 'pinn': False}\n"
     ]
    },
    {
     "name": "stderr",
     "output_type": "stream",
     "text": [
      "Evaluating EKF: 100%|██████████| 2442/2442 [00:05<00:00, 424.03it/s]\n"
     ]
    },
    {
     "name": "stdout",
     "output_type": "stream",
     "text": [
      "{'nn_on': True, 'nn_type': 'RNN', 'year': 2016, 'lag': 3, 'vi': True, 'pinn': True}\n"
     ]
    },
    {
     "name": "stderr",
     "output_type": "stream",
     "text": [
      "Evaluating EKF: 100%|██████████| 2442/2442 [00:05<00:00, 431.27it/s]\n"
     ]
    },
    {
     "name": "stdout",
     "output_type": "stream",
     "text": [
      "{'nn_on': True, 'nn_type': 'RNN', 'year': 2017, 'lag': 0, 'vi': False, 'pinn': False}\n"
     ]
    },
    {
     "name": "stderr",
     "output_type": "stream",
     "text": [
      "Evaluating EKF: 100%|██████████| 1303/1303 [00:01<00:00, 775.99it/s]\n"
     ]
    },
    {
     "name": "stdout",
     "output_type": "stream",
     "text": [
      "{'nn_on': True, 'nn_type': 'RNN', 'year': 2017, 'lag': 0, 'vi': False, 'pinn': True}\n"
     ]
    },
    {
     "name": "stderr",
     "output_type": "stream",
     "text": [
      "Evaluating EKF: 100%|██████████| 1303/1303 [00:01<00:00, 756.01it/s]\n"
     ]
    },
    {
     "name": "stdout",
     "output_type": "stream",
     "text": [
      "{'nn_on': True, 'nn_type': 'RNN', 'year': 2017, 'lag': 0, 'vi': True, 'pinn': False}\n"
     ]
    },
    {
     "name": "stderr",
     "output_type": "stream",
     "text": [
      "Evaluating EKF: 100%|██████████| 1303/1303 [00:01<00:00, 755.36it/s]\n"
     ]
    },
    {
     "name": "stdout",
     "output_type": "stream",
     "text": [
      "{'nn_on': True, 'nn_type': 'RNN', 'year': 2017, 'lag': 0, 'vi': True, 'pinn': True}\n"
     ]
    },
    {
     "name": "stderr",
     "output_type": "stream",
     "text": [
      "Evaluating EKF: 100%|██████████| 1303/1303 [00:01<00:00, 762.39it/s]\n"
     ]
    },
    {
     "name": "stdout",
     "output_type": "stream",
     "text": [
      "{'nn_on': True, 'nn_type': 'RNN', 'year': 2017, 'lag': 3, 'vi': False, 'pinn': False}\n"
     ]
    },
    {
     "name": "stderr",
     "output_type": "stream",
     "text": [
      "Evaluating EKF: 100%|██████████| 1303/1303 [00:03<00:00, 416.92it/s]\n"
     ]
    },
    {
     "name": "stdout",
     "output_type": "stream",
     "text": [
      "{'nn_on': True, 'nn_type': 'RNN', 'year': 2017, 'lag': 3, 'vi': False, 'pinn': True}\n"
     ]
    },
    {
     "name": "stderr",
     "output_type": "stream",
     "text": [
      "Evaluating EKF: 100%|██████████| 1303/1303 [00:02<00:00, 448.86it/s]\n"
     ]
    },
    {
     "name": "stdout",
     "output_type": "stream",
     "text": [
      "{'nn_on': True, 'nn_type': 'RNN', 'year': 2017, 'lag': 3, 'vi': True, 'pinn': False}\n"
     ]
    },
    {
     "name": "stderr",
     "output_type": "stream",
     "text": [
      "Evaluating EKF: 100%|██████████| 1303/1303 [00:02<00:00, 439.33it/s]\n"
     ]
    },
    {
     "name": "stdout",
     "output_type": "stream",
     "text": [
      "{'nn_on': True, 'nn_type': 'RNN', 'year': 2017, 'lag': 3, 'vi': True, 'pinn': True}\n"
     ]
    },
    {
     "name": "stderr",
     "output_type": "stream",
     "text": [
      "Evaluating EKF: 100%|██████████| 1303/1303 [00:03<00:00, 421.47it/s]\n"
     ]
    },
    {
     "name": "stdout",
     "output_type": "stream",
     "text": [
      "{'nn_on': True, 'nn_type': 'RNN', 'year': 2018, 'lag': 0, 'vi': False, 'pinn': False}\n"
     ]
    },
    {
     "name": "stderr",
     "output_type": "stream",
     "text": [
      "Evaluating EKF: 100%|██████████| 1303/1303 [00:01<00:00, 795.28it/s]\n"
     ]
    },
    {
     "name": "stdout",
     "output_type": "stream",
     "text": [
      "{'nn_on': True, 'nn_type': 'RNN', 'year': 2018, 'lag': 0, 'vi': False, 'pinn': True}\n"
     ]
    },
    {
     "name": "stderr",
     "output_type": "stream",
     "text": [
      "Evaluating EKF: 100%|██████████| 1303/1303 [00:01<00:00, 754.98it/s]\n"
     ]
    },
    {
     "name": "stdout",
     "output_type": "stream",
     "text": [
      "{'nn_on': True, 'nn_type': 'RNN', 'year': 2018, 'lag': 0, 'vi': True, 'pinn': False}\n"
     ]
    },
    {
     "name": "stderr",
     "output_type": "stream",
     "text": [
      "Evaluating EKF: 100%|██████████| 1303/1303 [00:01<00:00, 801.06it/s]\n"
     ]
    },
    {
     "name": "stdout",
     "output_type": "stream",
     "text": [
      "{'nn_on': True, 'nn_type': 'RNN', 'year': 2018, 'lag': 0, 'vi': True, 'pinn': True}\n"
     ]
    },
    {
     "name": "stderr",
     "output_type": "stream",
     "text": [
      "Evaluating EKF: 100%|██████████| 1303/1303 [00:01<00:00, 797.99it/s]\n"
     ]
    },
    {
     "name": "stdout",
     "output_type": "stream",
     "text": [
      "{'nn_on': True, 'nn_type': 'RNN', 'year': 2018, 'lag': 3, 'vi': False, 'pinn': False}\n"
     ]
    },
    {
     "name": "stderr",
     "output_type": "stream",
     "text": [
      "Evaluating EKF: 100%|██████████| 1303/1303 [00:02<00:00, 452.69it/s]\n"
     ]
    },
    {
     "name": "stdout",
     "output_type": "stream",
     "text": [
      "{'nn_on': True, 'nn_type': 'RNN', 'year': 2018, 'lag': 3, 'vi': False, 'pinn': True}\n"
     ]
    },
    {
     "name": "stderr",
     "output_type": "stream",
     "text": [
      "Evaluating EKF: 100%|██████████| 1303/1303 [00:02<00:00, 467.02it/s]\n"
     ]
    },
    {
     "name": "stdout",
     "output_type": "stream",
     "text": [
      "{'nn_on': True, 'nn_type': 'RNN', 'year': 2018, 'lag': 3, 'vi': True, 'pinn': False}\n"
     ]
    },
    {
     "name": "stderr",
     "output_type": "stream",
     "text": [
      "Evaluating EKF: 100%|██████████| 1303/1303 [00:02<00:00, 458.75it/s]\n"
     ]
    },
    {
     "name": "stdout",
     "output_type": "stream",
     "text": [
      "{'nn_on': True, 'nn_type': 'RNN', 'year': 2018, 'lag': 3, 'vi': True, 'pinn': True}\n"
     ]
    },
    {
     "name": "stderr",
     "output_type": "stream",
     "text": [
      "Evaluating EKF: 100%|██████████| 1303/1303 [00:02<00:00, 447.81it/s]\n"
     ]
    },
    {
     "name": "stdout",
     "output_type": "stream",
     "text": [
      "{'nn_on': True, 'nn_type': 'RNN', 'year': 2019, 'lag': 0, 'vi': False, 'pinn': False}\n"
     ]
    },
    {
     "name": "stderr",
     "output_type": "stream",
     "text": [
      "Evaluating EKF: 100%|██████████| 1302/1302 [00:01<00:00, 822.89it/s]\n"
     ]
    },
    {
     "name": "stdout",
     "output_type": "stream",
     "text": [
      "{'nn_on': True, 'nn_type': 'RNN', 'year': 2019, 'lag': 0, 'vi': False, 'pinn': True}\n"
     ]
    },
    {
     "name": "stderr",
     "output_type": "stream",
     "text": [
      "Evaluating EKF: 100%|██████████| 1302/1302 [00:01<00:00, 802.22it/s]\n"
     ]
    },
    {
     "name": "stdout",
     "output_type": "stream",
     "text": [
      "{'nn_on': True, 'nn_type': 'RNN', 'year': 2019, 'lag': 0, 'vi': True, 'pinn': False}\n"
     ]
    },
    {
     "name": "stderr",
     "output_type": "stream",
     "text": [
      "Evaluating EKF: 100%|██████████| 1302/1302 [00:01<00:00, 799.93it/s]\n"
     ]
    },
    {
     "name": "stdout",
     "output_type": "stream",
     "text": [
      "{'nn_on': True, 'nn_type': 'RNN', 'year': 2019, 'lag': 0, 'vi': True, 'pinn': True}\n"
     ]
    },
    {
     "name": "stderr",
     "output_type": "stream",
     "text": [
      "Evaluating EKF: 100%|██████████| 1302/1302 [00:01<00:00, 794.34it/s]\n"
     ]
    },
    {
     "name": "stdout",
     "output_type": "stream",
     "text": [
      "{'nn_on': True, 'nn_type': 'RNN', 'year': 2019, 'lag': 3, 'vi': False, 'pinn': False}\n"
     ]
    },
    {
     "name": "stderr",
     "output_type": "stream",
     "text": [
      "Evaluating EKF: 100%|██████████| 1302/1302 [00:02<00:00, 445.44it/s]\n"
     ]
    },
    {
     "name": "stdout",
     "output_type": "stream",
     "text": [
      "{'nn_on': True, 'nn_type': 'RNN', 'year': 2019, 'lag': 3, 'vi': False, 'pinn': True}\n"
     ]
    },
    {
     "name": "stderr",
     "output_type": "stream",
     "text": [
      "Evaluating EKF: 100%|██████████| 1302/1302 [00:02<00:00, 471.25it/s]\n"
     ]
    },
    {
     "name": "stdout",
     "output_type": "stream",
     "text": [
      "{'nn_on': True, 'nn_type': 'RNN', 'year': 2019, 'lag': 3, 'vi': True, 'pinn': False}\n"
     ]
    },
    {
     "name": "stderr",
     "output_type": "stream",
     "text": [
      "Evaluating EKF: 100%|██████████| 1302/1302 [00:02<00:00, 464.35it/s]\n"
     ]
    },
    {
     "name": "stdout",
     "output_type": "stream",
     "text": [
      "{'nn_on': True, 'nn_type': 'RNN', 'year': 2019, 'lag': 3, 'vi': True, 'pinn': True}\n"
     ]
    },
    {
     "name": "stderr",
     "output_type": "stream",
     "text": [
      "Evaluating EKF: 100%|██████████| 1302/1302 [00:02<00:00, 455.37it/s]\n"
     ]
    },
    {
     "name": "stdout",
     "output_type": "stream",
     "text": [
      "{'nn_on': True, 'nn_type': 'RNN', 'year': 2020, 'lag': 0, 'vi': False, 'pinn': False}\n"
     ]
    },
    {
     "name": "stderr",
     "output_type": "stream",
     "text": [
      "Evaluating EKF: 100%|██████████| 1303/1303 [00:01<00:00, 794.27it/s]\n"
     ]
    },
    {
     "name": "stdout",
     "output_type": "stream",
     "text": [
      "{'nn_on': True, 'nn_type': 'RNN', 'year': 2020, 'lag': 0, 'vi': False, 'pinn': True}\n"
     ]
    },
    {
     "name": "stderr",
     "output_type": "stream",
     "text": [
      "Evaluating EKF: 100%|██████████| 1303/1303 [00:01<00:00, 795.65it/s]\n"
     ]
    },
    {
     "name": "stdout",
     "output_type": "stream",
     "text": [
      "{'nn_on': True, 'nn_type': 'RNN', 'year': 2020, 'lag': 0, 'vi': True, 'pinn': False}\n"
     ]
    },
    {
     "name": "stderr",
     "output_type": "stream",
     "text": [
      "Evaluating EKF: 100%|██████████| 1303/1303 [00:01<00:00, 782.18it/s]\n"
     ]
    },
    {
     "name": "stdout",
     "output_type": "stream",
     "text": [
      "{'nn_on': True, 'nn_type': 'RNN', 'year': 2020, 'lag': 0, 'vi': True, 'pinn': True}\n"
     ]
    },
    {
     "name": "stderr",
     "output_type": "stream",
     "text": [
      "Evaluating EKF: 100%|██████████| 1303/1303 [00:01<00:00, 799.21it/s]\n"
     ]
    },
    {
     "name": "stdout",
     "output_type": "stream",
     "text": [
      "{'nn_on': True, 'nn_type': 'RNN', 'year': 2020, 'lag': 3, 'vi': False, 'pinn': False}\n"
     ]
    },
    {
     "name": "stderr",
     "output_type": "stream",
     "text": [
      "Evaluating EKF: 100%|██████████| 1303/1303 [00:02<00:00, 461.78it/s]\n"
     ]
    },
    {
     "name": "stdout",
     "output_type": "stream",
     "text": [
      "{'nn_on': True, 'nn_type': 'RNN', 'year': 2020, 'lag': 3, 'vi': False, 'pinn': True}\n"
     ]
    },
    {
     "name": "stderr",
     "output_type": "stream",
     "text": [
      "Evaluating EKF: 100%|██████████| 1303/1303 [00:02<00:00, 468.17it/s]\n"
     ]
    },
    {
     "name": "stdout",
     "output_type": "stream",
     "text": [
      "{'nn_on': True, 'nn_type': 'RNN', 'year': 2020, 'lag': 3, 'vi': True, 'pinn': False}\n"
     ]
    },
    {
     "name": "stderr",
     "output_type": "stream",
     "text": [
      "Evaluating EKF: 100%|██████████| 1303/1303 [00:02<00:00, 458.07it/s]\n"
     ]
    },
    {
     "name": "stdout",
     "output_type": "stream",
     "text": [
      "{'nn_on': True, 'nn_type': 'RNN', 'year': 2020, 'lag': 3, 'vi': True, 'pinn': True}\n"
     ]
    },
    {
     "name": "stderr",
     "output_type": "stream",
     "text": [
      "Evaluating EKF: 100%|██████████| 1303/1303 [00:02<00:00, 459.20it/s]\n"
     ]
    }
   ],
   "source": [
    "Data ={}\n",
    "Folders = os.listdir(\"experiment_output\")\n",
    "Folders.sort()\n",
    "for folder in Folders:\n",
    "    params = read_path(folder)\n",
    "    print(params)\n",
    "    Model = Evaluator(lag=params[\"lag\"], year=params[\"year\"])\n",
    "    Model.evaluate(\n",
    "        nn_type=params[\"nn_type\"], \n",
    "        vi=params[\"vi\"], \n",
    "        pinn=params[\"pinn\"], \n",
    "        nn_on=params[\"nn_on\"]\n",
    "    )\n",
    "    report = Model.final_report()\n",
    "    with open(os.path.join(\"experiment_output\", folder, \"results.json\"), \"w\") as f:\n",
    "        json.dump(report, f)\n",
    "    Data.update({folder: report})\n",
    "    # Model.final_plot(save_path=os.path.join(\"experiment_output\", folder, f\"{folder}.pdf\"))\n",
    "with open(\"final_results.json\", \"w\") as f:\n",
    "    json.dump(Data, f)"
   ]
  },
  {
   "cell_type": "code",
   "execution_count": 4,
   "id": "3413265c",
   "metadata": {},
   "outputs": [
    {
     "data": {
      "text/plain": [
       "dict"
      ]
     },
     "execution_count": 4,
     "metadata": {},
     "output_type": "execute_result"
    }
   ],
   "source": [
    "type(Data)"
   ]
  },
  {
   "cell_type": "code",
   "execution_count": 5,
   "id": "b7392b94",
   "metadata": {},
   "outputs": [
    {
     "data": {
      "text/plain": [
       "['Baseline_20160119-20250530_Lag-0_VI-F_PINN-F_MSE-T',\n",
       " 'Baseline_20160119-20250530_Lag-0_VI-F_PINN-T_MSE-T',\n",
       " 'Baseline_20160119-20250530_Lag-0_VI-T_PINN-F_MSE-T',\n",
       " 'Baseline_20160119-20250530_Lag-0_VI-T_PINN-T_MSE-T',\n",
       " 'Baseline_20160119-20250530_Lag-3_VI-F_PINN-F_MSE-T',\n",
       " 'Baseline_20160119-20250530_Lag-3_VI-F_PINN-T_MSE-T',\n",
       " 'Baseline_20160119-20250530_Lag-3_VI-T_PINN-F_MSE-T',\n",
       " 'Baseline_20160119-20250530_Lag-3_VI-T_PINN-T_MSE-T',\n",
       " 'Baseline_20170102-20211231_Lag-0_VI-F_PINN-F_MSE-T',\n",
       " 'Baseline_20170102-20211231_Lag-0_VI-F_PINN-T_MSE-T',\n",
       " 'Baseline_20170102-20211231_Lag-0_VI-T_PINN-F_MSE-T',\n",
       " 'Baseline_20170102-20211231_Lag-0_VI-T_PINN-T_MSE-T',\n",
       " 'Baseline_20170102-20211231_Lag-3_VI-F_PINN-F_MSE-T',\n",
       " 'Baseline_20170102-20211231_Lag-3_VI-F_PINN-T_MSE-T',\n",
       " 'Baseline_20170102-20211231_Lag-3_VI-T_PINN-F_MSE-T',\n",
       " 'Baseline_20170102-20211231_Lag-3_VI-T_PINN-T_MSE-T',\n",
       " 'Baseline_20180101-20221231_Lag-0_VI-F_PINN-F_MSE-T',\n",
       " 'Baseline_20180101-20221231_Lag-0_VI-F_PINN-T_MSE-T',\n",
       " 'Baseline_20180101-20221231_Lag-0_VI-T_PINN-F_MSE-T',\n",
       " 'Baseline_20180101-20221231_Lag-0_VI-T_PINN-T_MSE-T',\n",
       " 'Baseline_20180101-20221231_Lag-3_VI-F_PINN-F_MSE-T',\n",
       " 'Baseline_20180101-20221231_Lag-3_VI-F_PINN-T_MSE-T',\n",
       " 'Baseline_20180101-20221231_Lag-3_VI-T_PINN-F_MSE-T',\n",
       " 'Baseline_20180101-20221231_Lag-3_VI-T_PINN-T_MSE-T',\n",
       " 'Baseline_20190101-20231231_Lag-0_VI-F_PINN-F_MSE-T',\n",
       " 'Baseline_20190101-20231231_Lag-0_VI-F_PINN-T_MSE-T',\n",
       " 'Baseline_20190101-20231231_Lag-0_VI-T_PINN-F_MSE-T',\n",
       " 'Baseline_20190101-20231231_Lag-0_VI-T_PINN-T_MSE-T',\n",
       " 'Baseline_20190101-20231231_Lag-3_VI-F_PINN-F_MSE-T',\n",
       " 'Baseline_20190101-20231231_Lag-3_VI-F_PINN-T_MSE-T',\n",
       " 'Baseline_20190101-20231231_Lag-3_VI-T_PINN-F_MSE-T',\n",
       " 'Baseline_20190101-20231231_Lag-3_VI-T_PINN-T_MSE-T',\n",
       " 'Baseline_20200101-20241231_Lag-0_VI-F_PINN-F_MSE-T',\n",
       " 'Baseline_20200101-20241231_Lag-0_VI-F_PINN-T_MSE-T',\n",
       " 'Baseline_20200101-20241231_Lag-0_VI-T_PINN-F_MSE-T',\n",
       " 'Baseline_20200101-20241231_Lag-0_VI-T_PINN-T_MSE-T',\n",
       " 'Baseline_20200101-20241231_Lag-3_VI-F_PINN-F_MSE-T',\n",
       " 'Baseline_20200101-20241231_Lag-3_VI-F_PINN-T_MSE-T',\n",
       " 'Baseline_20200101-20241231_Lag-3_VI-T_PINN-F_MSE-T',\n",
       " 'Baseline_20200101-20241231_Lag-3_VI-T_PINN-T_MSE-T',\n",
       " 'FCNN_20160119-20250530_Lag-0_VI-F_PINN-F_MSE-T',\n",
       " 'FCNN_20160119-20250530_Lag-0_VI-F_PINN-T_MSE-T',\n",
       " 'FCNN_20160119-20250530_Lag-0_VI-T_PINN-F_MSE-T',\n",
       " 'FCNN_20160119-20250530_Lag-0_VI-T_PINN-T_MSE-T',\n",
       " 'FCNN_20160119-20250530_Lag-3_VI-F_PINN-F_MSE-T',\n",
       " 'FCNN_20160119-20250530_Lag-3_VI-F_PINN-T_MSE-T',\n",
       " 'FCNN_20160119-20250530_Lag-3_VI-T_PINN-F_MSE-T',\n",
       " 'FCNN_20160119-20250530_Lag-3_VI-T_PINN-T_MSE-T',\n",
       " 'FCNN_20170102-20211231_Lag-0_VI-F_PINN-F_MSE-T',\n",
       " 'FCNN_20170102-20211231_Lag-0_VI-F_PINN-T_MSE-T',\n",
       " 'FCNN_20170102-20211231_Lag-0_VI-T_PINN-F_MSE-T',\n",
       " 'FCNN_20170102-20211231_Lag-0_VI-T_PINN-T_MSE-T',\n",
       " 'FCNN_20170102-20211231_Lag-3_VI-F_PINN-F_MSE-T',\n",
       " 'FCNN_20170102-20211231_Lag-3_VI-F_PINN-T_MSE-T',\n",
       " 'FCNN_20170102-20211231_Lag-3_VI-T_PINN-F_MSE-T',\n",
       " 'FCNN_20170102-20211231_Lag-3_VI-T_PINN-T_MSE-T',\n",
       " 'FCNN_20180101-20221231_Lag-0_VI-F_PINN-F_MSE-T',\n",
       " 'FCNN_20180101-20221231_Lag-0_VI-F_PINN-T_MSE-T',\n",
       " 'FCNN_20180101-20221231_Lag-0_VI-T_PINN-F_MSE-T',\n",
       " 'FCNN_20180101-20221231_Lag-0_VI-T_PINN-T_MSE-T',\n",
       " 'FCNN_20180101-20221231_Lag-3_VI-F_PINN-F_MSE-T',\n",
       " 'FCNN_20180101-20221231_Lag-3_VI-F_PINN-T_MSE-T',\n",
       " 'FCNN_20180101-20221231_Lag-3_VI-T_PINN-F_MSE-T',\n",
       " 'FCNN_20180101-20221231_Lag-3_VI-T_PINN-T_MSE-T',\n",
       " 'FCNN_20190101-20231231_Lag-0_VI-F_PINN-F_MSE-T',\n",
       " 'FCNN_20190101-20231231_Lag-0_VI-F_PINN-T_MSE-T',\n",
       " 'FCNN_20190101-20231231_Lag-0_VI-T_PINN-F_MSE-T',\n",
       " 'FCNN_20190101-20231231_Lag-0_VI-T_PINN-T_MSE-T',\n",
       " 'FCNN_20190101-20231231_Lag-3_VI-F_PINN-F_MSE-T',\n",
       " 'FCNN_20190101-20231231_Lag-3_VI-F_PINN-T_MSE-T',\n",
       " 'FCNN_20190101-20231231_Lag-3_VI-T_PINN-F_MSE-T',\n",
       " 'FCNN_20190101-20231231_Lag-3_VI-T_PINN-T_MSE-T',\n",
       " 'FCNN_20200101-20241231_Lag-0_VI-F_PINN-F_MSE-T',\n",
       " 'FCNN_20200101-20241231_Lag-0_VI-F_PINN-T_MSE-T',\n",
       " 'FCNN_20200101-20241231_Lag-0_VI-T_PINN-F_MSE-T',\n",
       " 'FCNN_20200101-20241231_Lag-0_VI-T_PINN-T_MSE-T',\n",
       " 'FCNN_20200101-20241231_Lag-3_VI-F_PINN-F_MSE-T',\n",
       " 'FCNN_20200101-20241231_Lag-3_VI-F_PINN-T_MSE-T',\n",
       " 'FCNN_20200101-20241231_Lag-3_VI-T_PINN-F_MSE-T',\n",
       " 'FCNN_20200101-20241231_Lag-3_VI-T_PINN-T_MSE-T',\n",
       " 'GRU_20160119-20250530_Lag-0_VI-F_PINN-F_MSE-T',\n",
       " 'GRU_20160119-20250530_Lag-0_VI-F_PINN-T_MSE-T',\n",
       " 'GRU_20160119-20250530_Lag-0_VI-T_PINN-F_MSE-T',\n",
       " 'GRU_20160119-20250530_Lag-0_VI-T_PINN-T_MSE-T',\n",
       " 'GRU_20160119-20250530_Lag-3_VI-F_PINN-F_MSE-T',\n",
       " 'GRU_20160119-20250530_Lag-3_VI-F_PINN-T_MSE-T',\n",
       " 'GRU_20160119-20250530_Lag-3_VI-T_PINN-F_MSE-T',\n",
       " 'GRU_20160119-20250530_Lag-3_VI-T_PINN-T_MSE-T',\n",
       " 'GRU_20170102-20211231_Lag-0_VI-F_PINN-F_MSE-T',\n",
       " 'GRU_20170102-20211231_Lag-0_VI-F_PINN-T_MSE-T',\n",
       " 'GRU_20170102-20211231_Lag-0_VI-T_PINN-F_MSE-T',\n",
       " 'GRU_20170102-20211231_Lag-0_VI-T_PINN-T_MSE-T',\n",
       " 'GRU_20170102-20211231_Lag-3_VI-F_PINN-F_MSE-T',\n",
       " 'GRU_20170102-20211231_Lag-3_VI-F_PINN-T_MSE-T',\n",
       " 'GRU_20170102-20211231_Lag-3_VI-T_PINN-F_MSE-T',\n",
       " 'GRU_20170102-20211231_Lag-3_VI-T_PINN-T_MSE-T',\n",
       " 'GRU_20180101-20221231_Lag-0_VI-F_PINN-F_MSE-T',\n",
       " 'GRU_20180101-20221231_Lag-0_VI-F_PINN-T_MSE-T',\n",
       " 'GRU_20180101-20221231_Lag-0_VI-T_PINN-F_MSE-T',\n",
       " 'GRU_20180101-20221231_Lag-0_VI-T_PINN-T_MSE-T',\n",
       " 'GRU_20180101-20221231_Lag-3_VI-F_PINN-F_MSE-T',\n",
       " 'GRU_20180101-20221231_Lag-3_VI-F_PINN-T_MSE-T',\n",
       " 'GRU_20180101-20221231_Lag-3_VI-T_PINN-F_MSE-T',\n",
       " 'GRU_20180101-20221231_Lag-3_VI-T_PINN-T_MSE-T',\n",
       " 'GRU_20190101-20231231_Lag-0_VI-F_PINN-F_MSE-T',\n",
       " 'GRU_20190101-20231231_Lag-0_VI-F_PINN-T_MSE-T',\n",
       " 'GRU_20190101-20231231_Lag-0_VI-T_PINN-F_MSE-T',\n",
       " 'GRU_20190101-20231231_Lag-0_VI-T_PINN-T_MSE-T',\n",
       " 'GRU_20190101-20231231_Lag-3_VI-F_PINN-F_MSE-T',\n",
       " 'GRU_20190101-20231231_Lag-3_VI-F_PINN-T_MSE-T',\n",
       " 'GRU_20190101-20231231_Lag-3_VI-T_PINN-F_MSE-T',\n",
       " 'GRU_20190101-20231231_Lag-3_VI-T_PINN-T_MSE-T',\n",
       " 'GRU_20200101-20241231_Lag-0_VI-F_PINN-F_MSE-T',\n",
       " 'GRU_20200101-20241231_Lag-0_VI-F_PINN-T_MSE-T',\n",
       " 'GRU_20200101-20241231_Lag-0_VI-T_PINN-F_MSE-T',\n",
       " 'GRU_20200101-20241231_Lag-0_VI-T_PINN-T_MSE-T',\n",
       " 'GRU_20200101-20241231_Lag-3_VI-F_PINN-F_MSE-T',\n",
       " 'GRU_20200101-20241231_Lag-3_VI-F_PINN-T_MSE-T',\n",
       " 'GRU_20200101-20241231_Lag-3_VI-T_PINN-F_MSE-T',\n",
       " 'GRU_20200101-20241231_Lag-3_VI-T_PINN-T_MSE-T',\n",
       " 'LSTM_20160119-20250530_Lag-0_VI-F_PINN-F_MSE-T',\n",
       " 'LSTM_20160119-20250530_Lag-0_VI-F_PINN-T_MSE-T',\n",
       " 'LSTM_20160119-20250530_Lag-0_VI-T_PINN-F_MSE-T',\n",
       " 'LSTM_20160119-20250530_Lag-0_VI-T_PINN-T_MSE-T',\n",
       " 'LSTM_20160119-20250530_Lag-3_VI-F_PINN-F_MSE-T',\n",
       " 'LSTM_20160119-20250530_Lag-3_VI-F_PINN-T_MSE-T',\n",
       " 'LSTM_20160119-20250530_Lag-3_VI-T_PINN-F_MSE-T',\n",
       " 'LSTM_20160119-20250530_Lag-3_VI-T_PINN-T_MSE-T',\n",
       " 'LSTM_20170102-20211231_Lag-0_VI-F_PINN-F_MSE-T',\n",
       " 'LSTM_20170102-20211231_Lag-0_VI-F_PINN-T_MSE-T',\n",
       " 'LSTM_20170102-20211231_Lag-0_VI-T_PINN-F_MSE-T',\n",
       " 'LSTM_20170102-20211231_Lag-0_VI-T_PINN-T_MSE-T',\n",
       " 'LSTM_20170102-20211231_Lag-3_VI-F_PINN-F_MSE-T',\n",
       " 'LSTM_20170102-20211231_Lag-3_VI-F_PINN-T_MSE-T',\n",
       " 'LSTM_20170102-20211231_Lag-3_VI-T_PINN-F_MSE-T',\n",
       " 'LSTM_20170102-20211231_Lag-3_VI-T_PINN-T_MSE-T',\n",
       " 'LSTM_20180101-20221231_Lag-0_VI-F_PINN-F_MSE-T',\n",
       " 'LSTM_20180101-20221231_Lag-0_VI-F_PINN-T_MSE-T',\n",
       " 'LSTM_20180101-20221231_Lag-0_VI-T_PINN-F_MSE-T',\n",
       " 'LSTM_20180101-20221231_Lag-0_VI-T_PINN-T_MSE-T',\n",
       " 'LSTM_20180101-20221231_Lag-3_VI-F_PINN-F_MSE-T',\n",
       " 'LSTM_20180101-20221231_Lag-3_VI-F_PINN-T_MSE-T',\n",
       " 'LSTM_20180101-20221231_Lag-3_VI-T_PINN-F_MSE-T',\n",
       " 'LSTM_20180101-20221231_Lag-3_VI-T_PINN-T_MSE-T',\n",
       " 'LSTM_20190101-20231231_Lag-0_VI-F_PINN-F_MSE-T',\n",
       " 'LSTM_20190101-20231231_Lag-0_VI-F_PINN-T_MSE-T',\n",
       " 'LSTM_20190101-20231231_Lag-0_VI-T_PINN-F_MSE-T',\n",
       " 'LSTM_20190101-20231231_Lag-0_VI-T_PINN-T_MSE-T',\n",
       " 'LSTM_20190101-20231231_Lag-3_VI-F_PINN-F_MSE-T',\n",
       " 'LSTM_20190101-20231231_Lag-3_VI-F_PINN-T_MSE-T',\n",
       " 'LSTM_20190101-20231231_Lag-3_VI-T_PINN-F_MSE-T',\n",
       " 'LSTM_20190101-20231231_Lag-3_VI-T_PINN-T_MSE-T',\n",
       " 'LSTM_20200101-20241231_Lag-0_VI-F_PINN-F_MSE-T',\n",
       " 'LSTM_20200101-20241231_Lag-0_VI-F_PINN-T_MSE-T',\n",
       " 'LSTM_20200101-20241231_Lag-0_VI-T_PINN-F_MSE-T',\n",
       " 'LSTM_20200101-20241231_Lag-0_VI-T_PINN-T_MSE-T',\n",
       " 'LSTM_20200101-20241231_Lag-3_VI-F_PINN-F_MSE-T',\n",
       " 'LSTM_20200101-20241231_Lag-3_VI-F_PINN-T_MSE-T',\n",
       " 'LSTM_20200101-20241231_Lag-3_VI-T_PINN-F_MSE-T',\n",
       " 'LSTM_20200101-20241231_Lag-3_VI-T_PINN-T_MSE-T',\n",
       " 'RNN_20160119-20250530_Lag-0_VI-F_PINN-F_MSE-T',\n",
       " 'RNN_20160119-20250530_Lag-0_VI-F_PINN-T_MSE-T',\n",
       " 'RNN_20160119-20250530_Lag-0_VI-T_PINN-F_MSE-T',\n",
       " 'RNN_20160119-20250530_Lag-0_VI-T_PINN-T_MSE-T',\n",
       " 'RNN_20160119-20250530_Lag-3_VI-F_PINN-F_MSE-T',\n",
       " 'RNN_20160119-20250530_Lag-3_VI-F_PINN-T_MSE-T',\n",
       " 'RNN_20160119-20250530_Lag-3_VI-T_PINN-F_MSE-T',\n",
       " 'RNN_20160119-20250530_Lag-3_VI-T_PINN-T_MSE-T',\n",
       " 'RNN_20170102-20211231_Lag-0_VI-F_PINN-F_MSE-T',\n",
       " 'RNN_20170102-20211231_Lag-0_VI-F_PINN-T_MSE-T',\n",
       " 'RNN_20170102-20211231_Lag-0_VI-T_PINN-F_MSE-T',\n",
       " 'RNN_20170102-20211231_Lag-0_VI-T_PINN-T_MSE-T',\n",
       " 'RNN_20170102-20211231_Lag-3_VI-F_PINN-F_MSE-T',\n",
       " 'RNN_20170102-20211231_Lag-3_VI-F_PINN-T_MSE-T',\n",
       " 'RNN_20170102-20211231_Lag-3_VI-T_PINN-F_MSE-T',\n",
       " 'RNN_20170102-20211231_Lag-3_VI-T_PINN-T_MSE-T',\n",
       " 'RNN_20180101-20221231_Lag-0_VI-F_PINN-F_MSE-T',\n",
       " 'RNN_20180101-20221231_Lag-0_VI-F_PINN-T_MSE-T',\n",
       " 'RNN_20180101-20221231_Lag-0_VI-T_PINN-F_MSE-T',\n",
       " 'RNN_20180101-20221231_Lag-0_VI-T_PINN-T_MSE-T',\n",
       " 'RNN_20180101-20221231_Lag-3_VI-F_PINN-F_MSE-T',\n",
       " 'RNN_20180101-20221231_Lag-3_VI-F_PINN-T_MSE-T',\n",
       " 'RNN_20180101-20221231_Lag-3_VI-T_PINN-F_MSE-T',\n",
       " 'RNN_20180101-20221231_Lag-3_VI-T_PINN-T_MSE-T',\n",
       " 'RNN_20190101-20231231_Lag-0_VI-F_PINN-F_MSE-T',\n",
       " 'RNN_20190101-20231231_Lag-0_VI-F_PINN-T_MSE-T',\n",
       " 'RNN_20190101-20231231_Lag-0_VI-T_PINN-F_MSE-T',\n",
       " 'RNN_20190101-20231231_Lag-0_VI-T_PINN-T_MSE-T',\n",
       " 'RNN_20190101-20231231_Lag-3_VI-F_PINN-F_MSE-T',\n",
       " 'RNN_20190101-20231231_Lag-3_VI-F_PINN-T_MSE-T',\n",
       " 'RNN_20190101-20231231_Lag-3_VI-T_PINN-F_MSE-T',\n",
       " 'RNN_20190101-20231231_Lag-3_VI-T_PINN-T_MSE-T',\n",
       " 'RNN_20200101-20241231_Lag-0_VI-F_PINN-F_MSE-T',\n",
       " 'RNN_20200101-20241231_Lag-0_VI-F_PINN-T_MSE-T',\n",
       " 'RNN_20200101-20241231_Lag-0_VI-T_PINN-F_MSE-T',\n",
       " 'RNN_20200101-20241231_Lag-0_VI-T_PINN-T_MSE-T',\n",
       " 'RNN_20200101-20241231_Lag-3_VI-F_PINN-F_MSE-T',\n",
       " 'RNN_20200101-20241231_Lag-3_VI-F_PINN-T_MSE-T',\n",
       " 'RNN_20200101-20241231_Lag-3_VI-T_PINN-F_MSE-T',\n",
       " 'RNN_20200101-20241231_Lag-3_VI-T_PINN-T_MSE-T']"
      ]
     },
     "execution_count": 5,
     "metadata": {},
     "output_type": "execute_result"
    }
   ],
   "source": [
    "[x for x in Data.keys()]"
   ]
  },
  {
   "cell_type": "code",
   "execution_count": 6,
   "id": "72202fcb",
   "metadata": {},
   "outputs": [],
   "source": [
    "for path, result in Data.items():\n",
    "    with open(os.path.join(\"experiment_output\", path, \"results.json\"), \"w\") as f:\n",
    "        json.dump(result, f)"
   ]
  },
  {
   "cell_type": "code",
   "execution_count": 7,
   "id": "51e818c2",
   "metadata": {},
   "outputs": [
    {
     "name": "stdout",
     "output_type": "stream",
     "text": [
      "{'nn_on': False, 'nn_type': 'FCNN', 'year': 2016, 'lag': 0, 'vi': False, 'pinn': False}\n"
     ]
    },
    {
     "name": "stderr",
     "output_type": "stream",
     "text": [
      "Evaluating EKF:   3%|▎         | 84/2442 [00:00<00:02, 839.24it/s]"
     ]
    },
    {
     "name": "stderr",
     "output_type": "stream",
     "text": [
      "Evaluating EKF: 100%|██████████| 2442/2442 [00:03<00:00, 689.97it/s]\n"
     ]
    },
    {
     "name": "stdout",
     "output_type": "stream",
     "text": [
      "{'nn_on': False, 'nn_type': 'FCNN', 'year': 2016, 'lag': 0, 'vi': False, 'pinn': True}\n"
     ]
    },
    {
     "name": "stderr",
     "output_type": "stream",
     "text": [
      "Evaluating EKF: 100%|██████████| 2442/2442 [00:03<00:00, 725.47it/s]\n"
     ]
    },
    {
     "name": "stdout",
     "output_type": "stream",
     "text": [
      "{'nn_on': False, 'nn_type': 'FCNN', 'year': 2016, 'lag': 0, 'vi': True, 'pinn': False}\n"
     ]
    },
    {
     "name": "stderr",
     "output_type": "stream",
     "text": [
      "Evaluating EKF: 100%|██████████| 2442/2442 [00:03<00:00, 798.78it/s]\n"
     ]
    },
    {
     "name": "stdout",
     "output_type": "stream",
     "text": [
      "{'nn_on': False, 'nn_type': 'FCNN', 'year': 2016, 'lag': 0, 'vi': True, 'pinn': True}\n"
     ]
    },
    {
     "name": "stderr",
     "output_type": "stream",
     "text": [
      "Evaluating EKF: 100%|██████████| 2442/2442 [00:03<00:00, 719.06it/s]\n"
     ]
    },
    {
     "name": "stdout",
     "output_type": "stream",
     "text": [
      "{'nn_on': False, 'nn_type': 'FCNN', 'year': 2016, 'lag': 3, 'vi': False, 'pinn': False}\n"
     ]
    },
    {
     "name": "stderr",
     "output_type": "stream",
     "text": [
      "Evaluating EKF: 100%|██████████| 2442/2442 [00:05<00:00, 426.25it/s]\n"
     ]
    },
    {
     "name": "stdout",
     "output_type": "stream",
     "text": [
      "{'nn_on': False, 'nn_type': 'FCNN', 'year': 2016, 'lag': 3, 'vi': False, 'pinn': True}\n"
     ]
    },
    {
     "name": "stderr",
     "output_type": "stream",
     "text": [
      "Evaluating EKF: 100%|██████████| 2442/2442 [00:05<00:00, 422.58it/s]\n"
     ]
    },
    {
     "name": "stdout",
     "output_type": "stream",
     "text": [
      "{'nn_on': False, 'nn_type': 'FCNN', 'year': 2016, 'lag': 3, 'vi': True, 'pinn': False}\n"
     ]
    },
    {
     "name": "stderr",
     "output_type": "stream",
     "text": [
      "Evaluating EKF: 100%|██████████| 2442/2442 [00:05<00:00, 416.53it/s]\n"
     ]
    },
    {
     "name": "stdout",
     "output_type": "stream",
     "text": [
      "{'nn_on': False, 'nn_type': 'FCNN', 'year': 2016, 'lag': 3, 'vi': True, 'pinn': True}\n"
     ]
    },
    {
     "name": "stderr",
     "output_type": "stream",
     "text": [
      "Evaluating EKF: 100%|██████████| 2442/2442 [00:05<00:00, 410.47it/s]\n"
     ]
    },
    {
     "name": "stdout",
     "output_type": "stream",
     "text": [
      "{'nn_on': True, 'nn_type': 'FCNN', 'year': 2016, 'lag': 0, 'vi': False, 'pinn': False}\n"
     ]
    },
    {
     "name": "stderr",
     "output_type": "stream",
     "text": [
      "Evaluating EKF: 100%|██████████| 2442/2442 [00:03<00:00, 799.98it/s]\n"
     ]
    },
    {
     "name": "stdout",
     "output_type": "stream",
     "text": [
      "{'nn_on': True, 'nn_type': 'FCNN', 'year': 2016, 'lag': 0, 'vi': False, 'pinn': True}\n"
     ]
    },
    {
     "name": "stderr",
     "output_type": "stream",
     "text": [
      "Evaluating EKF: 100%|██████████| 2442/2442 [00:03<00:00, 803.31it/s]\n"
     ]
    },
    {
     "name": "stdout",
     "output_type": "stream",
     "text": [
      "{'nn_on': True, 'nn_type': 'FCNN', 'year': 2016, 'lag': 0, 'vi': True, 'pinn': False}\n"
     ]
    },
    {
     "name": "stderr",
     "output_type": "stream",
     "text": [
      "Evaluating EKF: 100%|██████████| 2442/2442 [00:03<00:00, 786.64it/s]\n"
     ]
    },
    {
     "name": "stdout",
     "output_type": "stream",
     "text": [
      "{'nn_on': True, 'nn_type': 'FCNN', 'year': 2016, 'lag': 0, 'vi': True, 'pinn': True}\n"
     ]
    },
    {
     "name": "stderr",
     "output_type": "stream",
     "text": [
      "Evaluating EKF: 100%|██████████| 2442/2442 [00:03<00:00, 636.10it/s]\n"
     ]
    },
    {
     "name": "stdout",
     "output_type": "stream",
     "text": [
      "{'nn_on': True, 'nn_type': 'FCNN', 'year': 2016, 'lag': 3, 'vi': False, 'pinn': False}\n"
     ]
    },
    {
     "name": "stderr",
     "output_type": "stream",
     "text": [
      "Evaluating EKF: 100%|██████████| 2442/2442 [00:05<00:00, 460.23it/s]\n"
     ]
    },
    {
     "name": "stdout",
     "output_type": "stream",
     "text": [
      "{'nn_on': True, 'nn_type': 'FCNN', 'year': 2016, 'lag': 3, 'vi': False, 'pinn': True}\n"
     ]
    },
    {
     "name": "stderr",
     "output_type": "stream",
     "text": [
      "Evaluating EKF: 100%|██████████| 2442/2442 [00:06<00:00, 390.06it/s]\n"
     ]
    },
    {
     "name": "stdout",
     "output_type": "stream",
     "text": [
      "{'nn_on': True, 'nn_type': 'FCNN', 'year': 2016, 'lag': 3, 'vi': True, 'pinn': False}\n"
     ]
    },
    {
     "name": "stderr",
     "output_type": "stream",
     "text": [
      "Evaluating EKF: 100%|██████████| 2442/2442 [00:05<00:00, 458.65it/s]\n"
     ]
    },
    {
     "name": "stdout",
     "output_type": "stream",
     "text": [
      "{'nn_on': True, 'nn_type': 'FCNN', 'year': 2016, 'lag': 3, 'vi': True, 'pinn': True}\n"
     ]
    },
    {
     "name": "stderr",
     "output_type": "stream",
     "text": [
      "Evaluating EKF: 100%|██████████| 2442/2442 [00:05<00:00, 460.57it/s]\n"
     ]
    },
    {
     "name": "stdout",
     "output_type": "stream",
     "text": [
      "{'nn_on': True, 'nn_type': 'GRU', 'year': 2016, 'lag': 0, 'vi': False, 'pinn': False}\n"
     ]
    },
    {
     "name": "stderr",
     "output_type": "stream",
     "text": [
      "Evaluating EKF: 100%|██████████| 2442/2442 [00:03<00:00, 796.74it/s]\n"
     ]
    },
    {
     "name": "stdout",
     "output_type": "stream",
     "text": [
      "{'nn_on': True, 'nn_type': 'GRU', 'year': 2016, 'lag': 0, 'vi': False, 'pinn': True}\n"
     ]
    },
    {
     "name": "stderr",
     "output_type": "stream",
     "text": [
      "Evaluating EKF: 100%|██████████| 2442/2442 [00:04<00:00, 577.52it/s]\n"
     ]
    },
    {
     "name": "stdout",
     "output_type": "stream",
     "text": [
      "{'nn_on': True, 'nn_type': 'GRU', 'year': 2016, 'lag': 0, 'vi': True, 'pinn': False}\n"
     ]
    },
    {
     "name": "stderr",
     "output_type": "stream",
     "text": [
      "Evaluating EKF: 100%|██████████| 2442/2442 [00:03<00:00, 794.39it/s]\n"
     ]
    },
    {
     "name": "stdout",
     "output_type": "stream",
     "text": [
      "{'nn_on': True, 'nn_type': 'GRU', 'year': 2016, 'lag': 0, 'vi': True, 'pinn': True}\n"
     ]
    },
    {
     "name": "stderr",
     "output_type": "stream",
     "text": [
      "Evaluating EKF: 100%|██████████| 2442/2442 [00:03<00:00, 797.08it/s]\n"
     ]
    },
    {
     "name": "stdout",
     "output_type": "stream",
     "text": [
      "{'nn_on': True, 'nn_type': 'GRU', 'year': 2016, 'lag': 3, 'vi': False, 'pinn': False}\n"
     ]
    },
    {
     "name": "stderr",
     "output_type": "stream",
     "text": [
      "Evaluating EKF: 100%|██████████| 2442/2442 [00:05<00:00, 459.60it/s]\n"
     ]
    },
    {
     "name": "stdout",
     "output_type": "stream",
     "text": [
      "{'nn_on': True, 'nn_type': 'GRU', 'year': 2016, 'lag': 3, 'vi': False, 'pinn': True}\n"
     ]
    },
    {
     "name": "stderr",
     "output_type": "stream",
     "text": [
      "Evaluating EKF: 100%|██████████| 2442/2442 [00:05<00:00, 457.54it/s]\n"
     ]
    },
    {
     "name": "stdout",
     "output_type": "stream",
     "text": [
      "{'nn_on': True, 'nn_type': 'GRU', 'year': 2016, 'lag': 3, 'vi': True, 'pinn': False}\n"
     ]
    },
    {
     "name": "stderr",
     "output_type": "stream",
     "text": [
      "Evaluating EKF: 100%|██████████| 2442/2442 [00:06<00:00, 360.75it/s]\n"
     ]
    },
    {
     "name": "stdout",
     "output_type": "stream",
     "text": [
      "{'nn_on': True, 'nn_type': 'GRU', 'year': 2016, 'lag': 3, 'vi': True, 'pinn': True}\n"
     ]
    },
    {
     "name": "stderr",
     "output_type": "stream",
     "text": [
      "Evaluating EKF: 100%|██████████| 2442/2442 [00:05<00:00, 458.68it/s]\n"
     ]
    },
    {
     "name": "stdout",
     "output_type": "stream",
     "text": [
      "{'nn_on': True, 'nn_type': 'LSTM', 'year': 2016, 'lag': 0, 'vi': False, 'pinn': False}\n"
     ]
    },
    {
     "name": "stderr",
     "output_type": "stream",
     "text": [
      "Evaluating EKF: 100%|██████████| 2442/2442 [00:03<00:00, 800.01it/s]\n"
     ]
    },
    {
     "name": "stdout",
     "output_type": "stream",
     "text": [
      "{'nn_on': True, 'nn_type': 'LSTM', 'year': 2016, 'lag': 0, 'vi': False, 'pinn': True}\n"
     ]
    },
    {
     "name": "stderr",
     "output_type": "stream",
     "text": [
      "Evaluating EKF: 100%|██████████| 2442/2442 [00:03<00:00, 794.05it/s]\n"
     ]
    },
    {
     "name": "stdout",
     "output_type": "stream",
     "text": [
      "{'nn_on': True, 'nn_type': 'LSTM', 'year': 2016, 'lag': 0, 'vi': True, 'pinn': False}\n"
     ]
    },
    {
     "name": "stderr",
     "output_type": "stream",
     "text": [
      "Evaluating EKF: 100%|██████████| 2442/2442 [00:03<00:00, 798.03it/s]\n"
     ]
    },
    {
     "name": "stdout",
     "output_type": "stream",
     "text": [
      "{'nn_on': True, 'nn_type': 'LSTM', 'year': 2016, 'lag': 0, 'vi': True, 'pinn': True}\n"
     ]
    },
    {
     "name": "stderr",
     "output_type": "stream",
     "text": [
      "Evaluating EKF: 100%|██████████| 2442/2442 [00:03<00:00, 798.73it/s]\n"
     ]
    },
    {
     "name": "stdout",
     "output_type": "stream",
     "text": [
      "{'nn_on': True, 'nn_type': 'LSTM', 'year': 2016, 'lag': 3, 'vi': False, 'pinn': False}\n"
     ]
    },
    {
     "name": "stderr",
     "output_type": "stream",
     "text": [
      "Evaluating EKF: 100%|██████████| 2442/2442 [00:07<00:00, 346.51it/s]\n"
     ]
    },
    {
     "name": "stdout",
     "output_type": "stream",
     "text": [
      "{'nn_on': True, 'nn_type': 'LSTM', 'year': 2016, 'lag': 3, 'vi': False, 'pinn': True}\n"
     ]
    },
    {
     "name": "stderr",
     "output_type": "stream",
     "text": [
      "Evaluating EKF: 100%|██████████| 2442/2442 [00:05<00:00, 457.44it/s]\n"
     ]
    },
    {
     "name": "stdout",
     "output_type": "stream",
     "text": [
      "{'nn_on': True, 'nn_type': 'LSTM', 'year': 2016, 'lag': 3, 'vi': True, 'pinn': False}\n"
     ]
    },
    {
     "name": "stderr",
     "output_type": "stream",
     "text": [
      "Evaluating EKF: 100%|██████████| 2442/2442 [00:05<00:00, 458.99it/s]\n"
     ]
    },
    {
     "name": "stdout",
     "output_type": "stream",
     "text": [
      "{'nn_on': True, 'nn_type': 'LSTM', 'year': 2016, 'lag': 3, 'vi': True, 'pinn': True}\n"
     ]
    },
    {
     "name": "stderr",
     "output_type": "stream",
     "text": [
      "Evaluating EKF: 100%|██████████| 2442/2442 [00:05<00:00, 458.45it/s]\n"
     ]
    },
    {
     "name": "stdout",
     "output_type": "stream",
     "text": [
      "{'nn_on': True, 'nn_type': 'RNN', 'year': 2016, 'lag': 0, 'vi': False, 'pinn': False}\n"
     ]
    },
    {
     "name": "stderr",
     "output_type": "stream",
     "text": [
      "Evaluating EKF: 100%|██████████| 2442/2442 [00:03<00:00, 796.59it/s]\n"
     ]
    },
    {
     "name": "stdout",
     "output_type": "stream",
     "text": [
      "{'nn_on': True, 'nn_type': 'RNN', 'year': 2016, 'lag': 0, 'vi': False, 'pinn': True}\n"
     ]
    },
    {
     "name": "stderr",
     "output_type": "stream",
     "text": [
      "Evaluating EKF: 100%|██████████| 2442/2442 [00:03<00:00, 799.08it/s]\n"
     ]
    },
    {
     "name": "stdout",
     "output_type": "stream",
     "text": [
      "{'nn_on': True, 'nn_type': 'RNN', 'year': 2016, 'lag': 0, 'vi': True, 'pinn': False}\n"
     ]
    },
    {
     "name": "stderr",
     "output_type": "stream",
     "text": [
      "Evaluating EKF: 100%|██████████| 2442/2442 [00:03<00:00, 799.01it/s]\n"
     ]
    },
    {
     "name": "stdout",
     "output_type": "stream",
     "text": [
      "{'nn_on': True, 'nn_type': 'RNN', 'year': 2016, 'lag': 0, 'vi': True, 'pinn': True}\n"
     ]
    },
    {
     "name": "stderr",
     "output_type": "stream",
     "text": [
      "Evaluating EKF: 100%|██████████| 2442/2442 [00:03<00:00, 798.83it/s]\n"
     ]
    },
    {
     "name": "stdout",
     "output_type": "stream",
     "text": [
      "{'nn_on': True, 'nn_type': 'RNN', 'year': 2016, 'lag': 3, 'vi': False, 'pinn': False}\n"
     ]
    },
    {
     "name": "stderr",
     "output_type": "stream",
     "text": [
      "Evaluating EKF: 100%|██████████| 2442/2442 [00:07<00:00, 327.23it/s]\n"
     ]
    },
    {
     "name": "stdout",
     "output_type": "stream",
     "text": [
      "{'nn_on': True, 'nn_type': 'RNN', 'year': 2016, 'lag': 3, 'vi': False, 'pinn': True}\n"
     ]
    },
    {
     "name": "stderr",
     "output_type": "stream",
     "text": [
      "Evaluating EKF: 100%|██████████| 2442/2442 [00:05<00:00, 460.54it/s]\n"
     ]
    },
    {
     "name": "stdout",
     "output_type": "stream",
     "text": [
      "{'nn_on': True, 'nn_type': 'RNN', 'year': 2016, 'lag': 3, 'vi': True, 'pinn': False}\n"
     ]
    },
    {
     "name": "stderr",
     "output_type": "stream",
     "text": [
      "Evaluating EKF: 100%|██████████| 2442/2442 [00:05<00:00, 458.75it/s]\n"
     ]
    },
    {
     "name": "stdout",
     "output_type": "stream",
     "text": [
      "{'nn_on': True, 'nn_type': 'RNN', 'year': 2016, 'lag': 3, 'vi': True, 'pinn': True}\n"
     ]
    },
    {
     "name": "stderr",
     "output_type": "stream",
     "text": [
      "Evaluating EKF: 100%|██████████| 2442/2442 [00:05<00:00, 461.07it/s]\n"
     ]
    }
   ],
   "source": [
    "Data ={}\n",
    "Folders = os.listdir(\"experiment_output\")\n",
    "Folders.sort()\n",
    "for folder in Folders:\n",
    "    params = read_path(folder)\n",
    "    if params[\"year\"] == 2016:\n",
    "        print(params)\n",
    "        Model = Evaluator(lag=params[\"lag\"], year=params[\"year\"])\n",
    "        Model.evaluate(\n",
    "            nn_type=params[\"nn_type\"], \n",
    "            vi=params[\"vi\"], \n",
    "            pinn=params[\"pinn\"], \n",
    "            nn_on=params[\"nn_on\"]\n",
    "        )\n",
    "    Data.update({folder: Model})"
   ]
  },
  {
   "cell_type": "code",
   "execution_count": 11,
   "id": "e0456a08",
   "metadata": {},
   "outputs": [],
   "source": [
    "for x in [y for y in Data.keys()]:\n",
    "    if x.split(\"_\")[1]!=\"20160119-20250530\":\n",
    "        Data.pop(x)"
   ]
  },
  {
   "cell_type": "code",
   "execution_count": 29,
   "id": "b3bae504",
   "metadata": {},
   "outputs": [
    {
     "data": {
      "image/png": "[encoded data removed]",
      "text/plain": [
       "<Figure size 1000x1000 with 5 Axes>"
      ]
     },
     "metadata": {},
     "output_type": "display_data"
    }
   ],
   "source": [
    "fig, ax = plt.subplots(5, 1, figsize=(10, 10))\n",
    "idx = 0\n",
    "for folder in [x for x in Data.keys()]:\n",
    "    if folder.split(\"_\")[3].split(\"-\")[-1] == \"F\" and folder.split(\"_\")[4].split(\"-\")[-1] == \"F\" and folder.split(\"_\")[2].split(\"-\")[-1] == \"0\":\n",
    "        Data[folder].volatility_plot(ax_=ax[idx])\n",
    "        ax[idx].set_title(folder.split(\"_\")[0])\n",
    "        idx += 1\n",
    "plt.tight_layout()\n",
    "plt.savefig(\"img/vol_VI-F_PINN-F_lag-0.pdf\")\n",
    "plt.show()"
   ]
  },
  {
   "cell_type": "code",
   "execution_count": 6,
   "id": "05912a27",
   "metadata": {},
   "outputs": [
    {
     "data": {
      "text/plain": [
       "dict_keys(['RNN_20200101-20241231_Lag-3_VI-T_PINN-T_MSE-T'])"
      ]
     },
     "execution_count": 6,
     "metadata": {},
     "output_type": "execute_result"
    }
   ],
   "source": [
    "Data.keys()"
   ]
  },
  {
   "cell_type": "code",
   "execution_count": null,
   "id": "e3f33de0",
   "metadata": {},
   "outputs": [],
   "source": []
  }
 ],
 "metadata": {
  "kernelspec": {
   "display_name": "yitogong",
   "language": "python",
   "name": "python3"
  },
  "language_info": {
   "codemirror_mode": {
    "name": "ipython",
    "version": 3
   },
   "file_extension": ".py",
   "mimetype": "text/x-python",
   "name": "python",
   "nbconvert_exporter": "python",
   "pygments_lexer": "ipython3",
   "version": "3.12.9"
  }
 },
 "nbformat": 4,
 "nbformat_minor": 5
}
